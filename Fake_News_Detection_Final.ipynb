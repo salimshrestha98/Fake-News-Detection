{
 "cells": [
  {
   "cell_type": "code",
   "execution_count": 1,
   "id": "RuYCk7M-akhO",
   "metadata": {
    "colab": {
     "base_uri": "https://localhost:8080/"
    },
    "id": "RuYCk7M-akhO",
    "outputId": "a0acc1d0-4588-4e7c-b876-0d5fbddc1443"
   },
   "outputs": [],
   "source": [
    "# from google.colab import drive\n",
    "# drive.mount('/content/drive')"
   ]
  },
  {
   "cell_type": "markdown",
   "id": "6b0a1e1f",
   "metadata": {
    "id": "6b0a1e1f"
   },
   "source": [
    "# Fake News Detection\n",
    "### Dataset: Kaggle Fake News Dataset\n",
    "\n",
    "### Vectorizer: TfIdfVectorizer\n",
    "\n",
    "### Machine Learning Models:\n",
    "\n",
    "\n",
    "1. Decision Tree Classifier\n",
    "2. Support Vector Machine\n",
    "3. Naive Bayes Classifier"
   ]
  },
  {
   "cell_type": "markdown",
   "id": "CX1W95AjNzaU",
   "metadata": {
    "id": "CX1W95AjNzaU"
   },
   "source": []
  },
  {
   "cell_type": "code",
   "execution_count": 2,
   "id": "4f592ac1",
   "metadata": {
    "id": "4f592ac1",
    "scrolled": true
   },
   "outputs": [],
   "source": [
    "# Importing Essential Libraries\n",
    "\n",
    "import numpy as np\n",
    "import pandas as pd\n",
    "import matplotlib.pyplot as plt\n",
    "import seaborn as sns\n",
    "import re\n",
    "import string\n",
    "\n",
    "from sklearn.model_selection import train_test_split\n",
    "\n",
    "from sklearn.linear_model import LogisticRegression\n",
    "from sklearn.tree import DecisionTreeClassifier\n",
    "from sklearn.ensemble import GradientBoostingClassifier\n",
    "from sklearn.ensemble import RandomForestClassifier\n",
    "from sklearn.linear_model import PassiveAggressiveClassifier\n",
    "from sklearn.naive_bayes import MultinomialNB\n",
    "from sklearn.svm import SVC\n",
    "\n",
    "from sklearn.metrics import classification_report, confusion_matrix, accuracy_score\n",
    "\n",
    "import nltk\n",
    "from nltk.corpus import stopwords\n",
    "\n",
    "import pickle"
   ]
  },
  {
   "cell_type": "code",
   "execution_count": 3,
   "id": "6883e7f5",
   "metadata": {
    "scrolled": false
   },
   "outputs": [],
   "source": [
    "# !pip install nltk"
   ]
  },
  {
   "cell_type": "markdown",
   "id": "7252e3a4",
   "metadata": {},
   "source": [
    "## Data Loading"
   ]
  },
  {
   "cell_type": "code",
   "execution_count": 4,
   "id": "ae044024",
   "metadata": {
    "colab": {
     "base_uri": "https://localhost:8080/"
    },
    "id": "ae044024",
    "outputId": "6160be04-4316-486f-e30b-5104cd2d194e"
   },
   "outputs": [
    {
     "ename": "ParserError",
     "evalue": "Error tokenizing data. C error: Calling read(nbytes) on source failed. Try engine='python'.",
     "output_type": "error",
     "traceback": [
      "\u001b[1;31m---------------------------------------------------------------------------\u001b[0m",
      "\u001b[1;31mParserError\u001b[0m                               Traceback (most recent call last)",
      "Input \u001b[1;32mIn [4]\u001b[0m, in \u001b[0;36m<module>\u001b[1;34m\u001b[0m\n\u001b[0;32m      1\u001b[0m \u001b[38;5;66;03m# Reading from CSV file into DataFrame\u001b[39;00m\n\u001b[1;32m----> 3\u001b[0m df \u001b[38;5;241m=\u001b[39m \u001b[43mpd\u001b[49m\u001b[38;5;241;43m.\u001b[39;49m\u001b[43mread_csv\u001b[49m\u001b[43m(\u001b[49m\u001b[38;5;124;43m'\u001b[39;49m\u001b[38;5;124;43mtrain.csv\u001b[39;49m\u001b[38;5;124;43m'\u001b[39;49m\u001b[43m)\u001b[49m\n\u001b[0;32m      4\u001b[0m df\u001b[38;5;241m.\u001b[39mshape\n",
      "File \u001b[1;32m~\\Desktop\\DemoEnv\\lib\\site-packages\\pandas\\util\\_decorators.py:311\u001b[0m, in \u001b[0;36mdeprecate_nonkeyword_arguments.<locals>.decorate.<locals>.wrapper\u001b[1;34m(*args, **kwargs)\u001b[0m\n\u001b[0;32m    305\u001b[0m \u001b[38;5;28;01mif\u001b[39;00m \u001b[38;5;28mlen\u001b[39m(args) \u001b[38;5;241m>\u001b[39m num_allow_args:\n\u001b[0;32m    306\u001b[0m     warnings\u001b[38;5;241m.\u001b[39mwarn(\n\u001b[0;32m    307\u001b[0m         msg\u001b[38;5;241m.\u001b[39mformat(arguments\u001b[38;5;241m=\u001b[39marguments),\n\u001b[0;32m    308\u001b[0m         \u001b[38;5;167;01mFutureWarning\u001b[39;00m,\n\u001b[0;32m    309\u001b[0m         stacklevel\u001b[38;5;241m=\u001b[39mstacklevel,\n\u001b[0;32m    310\u001b[0m     )\n\u001b[1;32m--> 311\u001b[0m \u001b[38;5;28;01mreturn\u001b[39;00m func(\u001b[38;5;241m*\u001b[39margs, \u001b[38;5;241m*\u001b[39m\u001b[38;5;241m*\u001b[39mkwargs)\n",
      "File \u001b[1;32m~\\Desktop\\DemoEnv\\lib\\site-packages\\pandas\\io\\parsers\\readers.py:680\u001b[0m, in \u001b[0;36mread_csv\u001b[1;34m(filepath_or_buffer, sep, delimiter, header, names, index_col, usecols, squeeze, prefix, mangle_dupe_cols, dtype, engine, converters, true_values, false_values, skipinitialspace, skiprows, skipfooter, nrows, na_values, keep_default_na, na_filter, verbose, skip_blank_lines, parse_dates, infer_datetime_format, keep_date_col, date_parser, dayfirst, cache_dates, iterator, chunksize, compression, thousands, decimal, lineterminator, quotechar, quoting, doublequote, escapechar, comment, encoding, encoding_errors, dialect, error_bad_lines, warn_bad_lines, on_bad_lines, delim_whitespace, low_memory, memory_map, float_precision, storage_options)\u001b[0m\n\u001b[0;32m    665\u001b[0m kwds_defaults \u001b[38;5;241m=\u001b[39m _refine_defaults_read(\n\u001b[0;32m    666\u001b[0m     dialect,\n\u001b[0;32m    667\u001b[0m     delimiter,\n\u001b[1;32m   (...)\u001b[0m\n\u001b[0;32m    676\u001b[0m     defaults\u001b[38;5;241m=\u001b[39m{\u001b[38;5;124m\"\u001b[39m\u001b[38;5;124mdelimiter\u001b[39m\u001b[38;5;124m\"\u001b[39m: \u001b[38;5;124m\"\u001b[39m\u001b[38;5;124m,\u001b[39m\u001b[38;5;124m\"\u001b[39m},\n\u001b[0;32m    677\u001b[0m )\n\u001b[0;32m    678\u001b[0m kwds\u001b[38;5;241m.\u001b[39mupdate(kwds_defaults)\n\u001b[1;32m--> 680\u001b[0m \u001b[38;5;28;01mreturn\u001b[39;00m \u001b[43m_read\u001b[49m\u001b[43m(\u001b[49m\u001b[43mfilepath_or_buffer\u001b[49m\u001b[43m,\u001b[49m\u001b[43m \u001b[49m\u001b[43mkwds\u001b[49m\u001b[43m)\u001b[49m\n",
      "File \u001b[1;32m~\\Desktop\\DemoEnv\\lib\\site-packages\\pandas\\io\\parsers\\readers.py:581\u001b[0m, in \u001b[0;36m_read\u001b[1;34m(filepath_or_buffer, kwds)\u001b[0m\n\u001b[0;32m    578\u001b[0m     \u001b[38;5;28;01mreturn\u001b[39;00m parser\n\u001b[0;32m    580\u001b[0m \u001b[38;5;28;01mwith\u001b[39;00m parser:\n\u001b[1;32m--> 581\u001b[0m     \u001b[38;5;28;01mreturn\u001b[39;00m \u001b[43mparser\u001b[49m\u001b[38;5;241;43m.\u001b[39;49m\u001b[43mread\u001b[49m\u001b[43m(\u001b[49m\u001b[43mnrows\u001b[49m\u001b[43m)\u001b[49m\n",
      "File \u001b[1;32m~\\Desktop\\DemoEnv\\lib\\site-packages\\pandas\\io\\parsers\\readers.py:1250\u001b[0m, in \u001b[0;36mTextFileReader.read\u001b[1;34m(self, nrows)\u001b[0m\n\u001b[0;32m   1248\u001b[0m nrows \u001b[38;5;241m=\u001b[39m validate_integer(\u001b[38;5;124m\"\u001b[39m\u001b[38;5;124mnrows\u001b[39m\u001b[38;5;124m\"\u001b[39m, nrows)\n\u001b[0;32m   1249\u001b[0m \u001b[38;5;28;01mtry\u001b[39;00m:\n\u001b[1;32m-> 1250\u001b[0m     index, columns, col_dict \u001b[38;5;241m=\u001b[39m \u001b[38;5;28;43mself\u001b[39;49m\u001b[38;5;241;43m.\u001b[39;49m\u001b[43m_engine\u001b[49m\u001b[38;5;241;43m.\u001b[39;49m\u001b[43mread\u001b[49m\u001b[43m(\u001b[49m\u001b[43mnrows\u001b[49m\u001b[43m)\u001b[49m\n\u001b[0;32m   1251\u001b[0m \u001b[38;5;28;01mexcept\u001b[39;00m \u001b[38;5;167;01mException\u001b[39;00m:\n\u001b[0;32m   1252\u001b[0m     \u001b[38;5;28mself\u001b[39m\u001b[38;5;241m.\u001b[39mclose()\n",
      "File \u001b[1;32m~\\Desktop\\DemoEnv\\lib\\site-packages\\pandas\\io\\parsers\\c_parser_wrapper.py:225\u001b[0m, in \u001b[0;36mCParserWrapper.read\u001b[1;34m(self, nrows)\u001b[0m\n\u001b[0;32m    223\u001b[0m \u001b[38;5;28;01mtry\u001b[39;00m:\n\u001b[0;32m    224\u001b[0m     \u001b[38;5;28;01mif\u001b[39;00m \u001b[38;5;28mself\u001b[39m\u001b[38;5;241m.\u001b[39mlow_memory:\n\u001b[1;32m--> 225\u001b[0m         chunks \u001b[38;5;241m=\u001b[39m \u001b[38;5;28;43mself\u001b[39;49m\u001b[38;5;241;43m.\u001b[39;49m\u001b[43m_reader\u001b[49m\u001b[38;5;241;43m.\u001b[39;49m\u001b[43mread_low_memory\u001b[49m\u001b[43m(\u001b[49m\u001b[43mnrows\u001b[49m\u001b[43m)\u001b[49m\n\u001b[0;32m    226\u001b[0m         \u001b[38;5;66;03m# destructive to chunks\u001b[39;00m\n\u001b[0;32m    227\u001b[0m         data \u001b[38;5;241m=\u001b[39m _concatenate_chunks(chunks)\n",
      "File \u001b[1;32m~\\Desktop\\DemoEnv\\lib\\site-packages\\pandas\\_libs\\parsers.pyx:805\u001b[0m, in \u001b[0;36mpandas._libs.parsers.TextReader.read_low_memory\u001b[1;34m()\u001b[0m\n",
      "File \u001b[1;32m~\\Desktop\\DemoEnv\\lib\\site-packages\\pandas\\_libs\\parsers.pyx:861\u001b[0m, in \u001b[0;36mpandas._libs.parsers.TextReader._read_rows\u001b[1;34m()\u001b[0m\n",
      "File \u001b[1;32m~\\Desktop\\DemoEnv\\lib\\site-packages\\pandas\\_libs\\parsers.pyx:847\u001b[0m, in \u001b[0;36mpandas._libs.parsers.TextReader._tokenize_rows\u001b[1;34m()\u001b[0m\n",
      "File \u001b[1;32m~\\Desktop\\DemoEnv\\lib\\site-packages\\pandas\\_libs\\parsers.pyx:1960\u001b[0m, in \u001b[0;36mpandas._libs.parsers.raise_parser_error\u001b[1;34m()\u001b[0m\n",
      "\u001b[1;31mParserError\u001b[0m: Error tokenizing data. C error: Calling read(nbytes) on source failed. Try engine='python'."
     ]
    }
   ],
   "source": [
    "# Reading from CSV file into DataFrame\n",
    "\n",
    "df = pd.read_csv('train.csv')\n",
    "df.shape"
   ]
  },
  {
   "cell_type": "code",
   "execution_count": null,
   "id": "VC87tfqAa1uj",
   "metadata": {
    "colab": {
     "base_uri": "https://localhost:8080/"
    },
    "id": "VC87tfqAa1uj",
    "outputId": "7db2ad07-91a4-4a83-ece4-5695c9a86f8a"
   },
   "outputs": [],
   "source": [
    "# Filtering Null Attributes\n",
    "\n",
    "df.dropna(inplace=True)\n",
    "df.shape"
   ]
  },
  {
   "cell_type": "markdown",
   "id": "E325gHBSyB0d",
   "metadata": {
    "id": "E325gHBSyB0d"
   },
   "source": [
    "## Sampling"
   ]
  },
  {
   "cell_type": "code",
   "execution_count": null,
   "id": "Dx2XzxaxyFgs",
   "metadata": {
    "id": "Dx2XzxaxyFgs"
   },
   "outputs": [],
   "source": [
    "sample_size = 10000\n",
    "# df = df.sample(sample_size)\n"
   ]
  },
  {
   "cell_type": "code",
   "execution_count": null,
   "id": "5X1DxR4Omgxw",
   "metadata": {
    "id": "5X1DxR4Omgxw"
   },
   "outputs": [],
   "source": [
    "fil = open(\"stats.txt\", \"a\")\n",
    "fil.write(\"\\nSample Size: \"+ str(sample_size))\n",
    "scores = {\"Sample_Size\": sample_size}"
   ]
  },
  {
   "cell_type": "markdown",
   "id": "81f83589",
   "metadata": {
    "id": "81f83589"
   },
   "source": [
    "## Data Preprocessing"
   ]
  },
  {
   "cell_type": "code",
   "execution_count": null,
   "id": "202d5737",
   "metadata": {
    "colab": {
     "base_uri": "https://localhost:8080/"
    },
    "id": "202d5737",
    "outputId": "b346a8b0-c107-4e9a-d7d0-07f79b7b3dfa"
   },
   "outputs": [],
   "source": [
    "nltk.download('stopwords')\n",
    "stop = set(stopwords.words('english'))\n",
    "punctuation = list(string.punctuation)\n",
    "stop.update(punctuation)\n",
    "\n",
    "def preprocess(text):\n",
    "    if( type(text) != str):\n",
    "        text = ''\n",
    "        return\n",
    "\n",
    "    # Coverting text to lowercase\n",
    "\n",
    "    text = text.lower()\n",
    "\n",
    "    # Removing Newline Characters\n",
    "\n",
    "    text = re.sub('\\n', '', text)\n",
    "\n",
    "    # Removing Whitespaces\n",
    "\n",
    "    text = re.sub('\\\\W', ' ', text)\n",
    "\n",
    "    # Removing Square Brackets\n",
    "\n",
    "    text = re.sub('\\[[^]]*\\]', '', text)\n",
    "\n",
    "    # Removing URL's\n",
    "\n",
    "    re.sub(r'http\\S+', '', text)\n",
    "\n",
    "    # Other Preprocessing tasks\n",
    "    text = re.sub('\\[.*>\\]', '', text)\n",
    "    text = re.sub('\\w*\\d\\w*', '', text)\n",
    "\n",
    "    # Removing Stop Words\n",
    "\n",
    "    final_text = []\n",
    "    for i in text.split():\n",
    "        if i.strip().lower() not in stop:\n",
    "            final_text.append(i.strip())\n",
    "    text = \" \".join(final_text)\n",
    "\n",
    "    # Returning the processed text\n",
    "    \n",
    "    return text"
   ]
  },
  {
   "cell_type": "code",
   "execution_count": null,
   "id": "92df0bbf",
   "metadata": {
    "id": "92df0bbf"
   },
   "outputs": [],
   "source": [
    "# Combining all attributes into single attribute\n",
    "\n",
    "df['combined'] = df['author'] + ' ' + df['title'] + ' ' + df['text']\n",
    "\n",
    "# Applying preprocessing tasks to combined attributes\n",
    "\n",
    "df['combined'] = df['combined'].apply(preprocess)"
   ]
  },
  {
   "cell_type": "markdown",
   "id": "kKscybGcf62k",
   "metadata": {
    "id": "kKscybGcf62k"
   },
   "source": [
    "## Data Analysis"
   ]
  },
  {
   "cell_type": "code",
   "execution_count": null,
   "id": "HPU8ZQySdCbk",
   "metadata": {
    "colab": {
     "base_uri": "https://localhost:8080/",
     "height": 367
    },
    "id": "HPU8ZQySdCbk",
    "outputId": "1ec7f526-ddb7-4b71-b687-1d57e6bfb8c6"
   },
   "outputs": [],
   "source": [
    "# Calculating Title Length, Text Length\n",
    "\n",
    "df['title_length'] = [len(x) for x in df['title']]\n",
    "df['text_length'] = [len(x) for x in df['text']]\n",
    "\n",
    "\n",
    "# Calculating No. of words in Title and Text\n",
    "\n",
    "df['title_words'] = [len(x.split()) for x in df['title']]\n",
    "df['text_words'] = [len(x.split()) for x in df['text']]\n",
    "\n",
    "df.head(2)"
   ]
  },
  {
   "cell_type": "markdown",
   "id": "W4AIVuDwkrtK",
   "metadata": {
    "id": "W4AIVuDwkrtK"
   },
   "source": [
    "Comparing Between True and Fake Articles"
   ]
  },
  {
   "cell_type": "code",
   "execution_count": null,
   "id": "uJLVOZSUgGV0",
   "metadata": {
    "colab": {
     "base_uri": "https://localhost:8080/",
     "height": 295
    },
    "id": "uJLVOZSUgGV0",
    "outputId": "a7a548c1-d241-41a6-842d-485880208a22"
   },
   "outputs": [],
   "source": [
    "true_news = df.loc[df['label'] == 0]\n",
    "fake_news = df.loc[df['label'] == 1]\n",
    "\n",
    "plt.bar(['Fake', 'Not Fake'], [fake_news.size, true_news.size], color=['m','g'])\n",
    "plt.xlabel('News Category')\n",
    "plt.ylabel('Count')\n",
    "plt.title('Distribution of Fake and Not Fake News')\n",
    "\n",
    "plt.savefig('/content/drive/MyDrive/fake_news_img/dist_comp_'+str(sample_size)+'.png', dpi=300)"
   ]
  },
  {
   "cell_type": "code",
   "execution_count": null,
   "id": "ZFJalaLBkmSF",
   "metadata": {
    "id": "ZFJalaLBkmSF"
   },
   "outputs": [],
   "source": [
    "from matplotlib.pyplot import figure"
   ]
  },
  {
   "cell_type": "code",
   "execution_count": null,
   "id": "357UCtOohH4Z",
   "metadata": {
    "colab": {
     "base_uri": "https://localhost:8080/",
     "height": 605
    },
    "id": "357UCtOohH4Z",
    "outputId": "e2d23025-68ac-4b6f-fe9b-18abcad1f78d"
   },
   "outputs": [],
   "source": [
    "figure(figsize = (20,15))\n",
    "\n",
    "plt.subplot(421)\n",
    "buckets_title = np.arange(0, 210, 10)\n",
    "plt.hist(true_news.title_length, rwidth=0.5, bins=buckets_title)\n",
    "plt.title('Title Length of True News Articles')\n",
    "plt.ylabel('Title Length')\n",
    "\n",
    "plt.subplot(422)\n",
    "plt.hist(fake_news.title_length, rwidth=0.5, bins=buckets_title)\n",
    "plt.title('Title Length of Fake News Articles')\n",
    "plt.ylabel('Title Length')\n",
    "\n",
    "plt.subplot(423)\n",
    "buckets_text = np.arange(0, 22000, 2000)\n",
    "plt.hist(true_news.text_length, rwidth=0.5, bins=buckets_text)\n",
    "plt.title('Text Length of True News Articles')\n",
    "plt.ylabel('Text Length')\n",
    "\n",
    "plt.subplot(424)\n",
    "plt.hist(fake_news.text_length, rwidth=0.5, bins=buckets_text)\n",
    "plt.title('Text Length of Fake News Articles')\n",
    "plt.ylabel('Text Length')\n",
    "\n",
    "plt.subplot(425)\n",
    "title_words_bucket = np.arange(0, 60, 10)\n",
    "plt.hist(true_news.title_words, rwidth=0.5, bins=title_words_bucket)\n",
    "plt.title('Title Word Count of True News Articles')\n",
    "plt.ylabel('Title Word Count')\n",
    "\n",
    "plt.subplot(426)\n",
    "plt.hist(fake_news.title_words, rwidth=0.5, bins=title_words_bucket)\n",
    "plt.title('Title Word Count of Fake News Articles')\n",
    "plt.ylabel('Title Word Count')\n",
    "\n",
    "plt.subplot(427)\n",
    "text_words_bucket = np.arange(0, 5500, 500)\n",
    "plt.hist(true_news.text_words, rwidth=0.5, bins=text_words_bucket)\n",
    "plt.title('Text Word Count of True News Articles')\n",
    "plt.ylabel('Text Word Count')\n",
    "\n",
    "plt.subplot(428)\n",
    "plt.hist(fake_news.text_words, rwidth=0.5, bins=text_words_bucket)\n",
    "plt.title('Text Word Count of Fake News Articles')\n",
    "plt.ylabel('Text Word Count')\n",
    "\n",
    "plt.savefig('/content/drive/MyDrive/fake_news_img/comparision_'+str(sample_size)+'.png', dpi=300)"
   ]
  },
  {
   "cell_type": "markdown",
   "id": "TtouPpvXl2gi",
   "metadata": {
    "id": "TtouPpvXl2gi"
   },
   "source": [
    "### True News Articles Statistics"
   ]
  },
  {
   "cell_type": "code",
   "execution_count": null,
   "id": "HStS54O5gFGB",
   "metadata": {
    "colab": {
     "base_uri": "https://localhost:8080/",
     "height": 112
    },
    "id": "HStS54O5gFGB",
    "outputId": "75c723b7-9aeb-47f6-a857-18b27adf031f"
   },
   "outputs": [],
   "source": [
    "true_news.drop(['id', 'label'], axis=1).describe().loc[['mean','std']].astype(int)"
   ]
  },
  {
   "cell_type": "markdown",
   "id": "2JJbm5C9nGuS",
   "metadata": {
    "id": "2JJbm5C9nGuS"
   },
   "source": [
    "### Fake News Articles Statistics"
   ]
  },
  {
   "cell_type": "code",
   "execution_count": null,
   "id": "ZRflqTESnBEr",
   "metadata": {
    "colab": {
     "base_uri": "https://localhost:8080/",
     "height": 112
    },
    "id": "ZRflqTESnBEr",
    "outputId": "5c37ffa9-1ffc-4e2c-89c4-1a6075cb40f4"
   },
   "outputs": [],
   "source": [
    "fake_news.drop(['id', 'label'], axis=1).describe().loc[['mean', 'std']].astype(int)"
   ]
  },
  {
   "cell_type": "markdown",
   "id": "62f59bf4",
   "metadata": {
    "id": "62f59bf4"
   },
   "source": [
    "## Model Training"
   ]
  },
  {
   "cell_type": "code",
   "execution_count": null,
   "id": "a95350fb",
   "metadata": {
    "id": "a95350fb"
   },
   "outputs": [],
   "source": [
    "x_train, x_test, y_train, y_test = train_test_split(df['combined'], df['label'], test_size=0.2, random_state=2)"
   ]
  },
  {
   "cell_type": "code",
   "execution_count": null,
   "id": "b4b054a8",
   "metadata": {
    "id": "b4b054a8"
   },
   "outputs": [],
   "source": [
    "from sklearn.feature_extraction.text import TfidfVectorizer"
   ]
  },
  {
   "cell_type": "code",
   "execution_count": null,
   "id": "d5c1a92f",
   "metadata": {
    "id": "d5c1a92f"
   },
   "outputs": [],
   "source": [
    "vectorization = TfidfVectorizer(stop_words=\"english\")\n",
    "xv_train = vectorization.fit_transform(x_train)\n",
    "xv_test = vectorization.transform(x_test)"
   ]
  },
  {
   "cell_type": "code",
   "execution_count": null,
   "id": "424bba6e",
   "metadata": {},
   "outputs": [],
   "source": [
    "pickle.dump(vectorization, open('Vectorize.pkl', 'wb'))"
   ]
  },
  {
   "cell_type": "markdown",
   "id": "d668f0fa",
   "metadata": {
    "id": "d668f0fa"
   },
   "source": [
    "### Logistic Regression"
   ]
  },
  {
   "cell_type": "code",
   "execution_count": null,
   "id": "dbc1b675",
   "metadata": {
    "id": "dbc1b675"
   },
   "outputs": [],
   "source": [
    "LR = LogisticRegression()\n",
    "LR.fit(xv_train, y_train)\n",
    "y_pred = LR.predict(xv_test)"
   ]
  },
  {
   "cell_type": "code",
   "execution_count": null,
   "id": "6618b387",
   "metadata": {
    "id": "6618b387"
   },
   "outputs": [],
   "source": [
    "scores['LR'] = [LR.score(xv_test, y_test)]"
   ]
  },
  {
   "cell_type": "code",
   "execution_count": null,
   "id": "2r6-32Hv2pGN",
   "metadata": {
    "colab": {
     "base_uri": "https://localhost:8080/"
    },
    "id": "2r6-32Hv2pGN",
    "outputId": "04ccdc4e-735e-4dea-de19-c726abc15f8b"
   },
   "outputs": [],
   "source": [
    "print(confusion_matrix(y_test, y_pred))"
   ]
  },
  {
   "cell_type": "markdown",
   "id": "9766b41d",
   "metadata": {
    "id": "9766b41d"
   },
   "source": [
    "### Decision Tree Classification"
   ]
  },
  {
   "cell_type": "code",
   "execution_count": null,
   "id": "729341ee",
   "metadata": {
    "id": "729341ee"
   },
   "outputs": [],
   "source": [
    "DT = DecisionTreeClassifier()\n",
    "DT.fit(xv_train, y_train)\n",
    "y_pred = DT.predict(xv_test)"
   ]
  },
  {
   "cell_type": "code",
   "execution_count": null,
   "id": "192d251e",
   "metadata": {
    "id": "192d251e"
   },
   "outputs": [],
   "source": [
    "scores['DT'] = [DT.score(xv_test, y_test)]"
   ]
  },
  {
   "cell_type": "code",
   "execution_count": null,
   "id": "o9e-BAY32oHt",
   "metadata": {
    "colab": {
     "base_uri": "https://localhost:8080/"
    },
    "id": "o9e-BAY32oHt",
    "outputId": "ac02f20f-c477-4d75-b659-1af57d00c542"
   },
   "outputs": [],
   "source": [
    "print(confusion_matrix(y_test, y_pred))"
   ]
  },
  {
   "cell_type": "markdown",
   "id": "48824b33",
   "metadata": {
    "id": "48824b33"
   },
   "source": [
    "### Gradient Boosting Classifier"
   ]
  },
  {
   "cell_type": "code",
   "execution_count": null,
   "id": "2cf337f0",
   "metadata": {
    "id": "2cf337f0"
   },
   "outputs": [],
   "source": [
    "GBC = GradientBoostingClassifier(random_state=0)\n",
    "GBC.fit(xv_train, y_train)\n",
    "y_pred = GBC.predict(xv_test)"
   ]
  },
  {
   "cell_type": "code",
   "execution_count": null,
   "id": "11775fbf",
   "metadata": {
    "id": "11775fbf"
   },
   "outputs": [],
   "source": [
    "scores['GBC'] = [GBC.score(xv_test, y_test)]"
   ]
  },
  {
   "cell_type": "code",
   "execution_count": null,
   "id": "bkoKuf_v2nKn",
   "metadata": {
    "colab": {
     "base_uri": "https://localhost:8080/"
    },
    "id": "bkoKuf_v2nKn",
    "outputId": "b6145ccc-dac4-446b-be01-a1d2170dbbe5"
   },
   "outputs": [],
   "source": [
    "print(confusion_matrix(y_test, y_pred))"
   ]
  },
  {
   "cell_type": "markdown",
   "id": "c06d4763",
   "metadata": {
    "id": "c06d4763"
   },
   "source": [
    "### Random Forest Classifier"
   ]
  },
  {
   "cell_type": "code",
   "execution_count": null,
   "id": "728aa7ba",
   "metadata": {
    "id": "728aa7ba"
   },
   "outputs": [],
   "source": [
    "RFC = RandomForestClassifier(random_state=0)\n",
    "RFC.fit(xv_train, y_train)\n",
    "y_pred = RFC.predict(xv_test)"
   ]
  },
  {
   "cell_type": "code",
   "execution_count": null,
   "id": "34dc4c36",
   "metadata": {
    "id": "34dc4c36"
   },
   "outputs": [],
   "source": [
    "scores['RFC'] = [RFC.score(xv_test, y_test)]"
   ]
  },
  {
   "cell_type": "code",
   "execution_count": null,
   "id": "AUjhGoeAyBdA",
   "metadata": {
    "colab": {
     "base_uri": "https://localhost:8080/"
    },
    "id": "AUjhGoeAyBdA",
    "outputId": "023c8c63-25ca-4dd4-838f-e493106f8a9f"
   },
   "outputs": [],
   "source": [
    "print(confusion_matrix(y_test, y_pred))"
   ]
  },
  {
   "cell_type": "markdown",
   "id": "AQbXNoOevMwS",
   "metadata": {
    "id": "AQbXNoOevMwS"
   },
   "source": [
    "### Passive Aggressive Classifier"
   ]
  },
  {
   "cell_type": "code",
   "execution_count": null,
   "id": "iEpWMvmBvJQ6",
   "metadata": {
    "colab": {
     "base_uri": "https://localhost:8080/"
    },
    "id": "iEpWMvmBvJQ6",
    "outputId": "cd2c94b1-ce65-4397-ca2f-fc3b3500b020"
   },
   "outputs": [],
   "source": [
    "PAC = PassiveAggressiveClassifier(max_iter=50)\n",
    "PAC.fit(xv_train, y_train)\n",
    "y_pred = PAC.predict(xv_test)\n",
    "\n",
    "scores['PAC'] = [PAC.score(xv_test, y_test)]\n",
    "\n",
    "print(confusion_matrix(y_test, y_pred))"
   ]
  },
  {
   "cell_type": "markdown",
   "id": "ydlt19w2vQ4H",
   "metadata": {
    "id": "ydlt19w2vQ4H"
   },
   "source": [
    "### Naive Bayes Classifier"
   ]
  },
  {
   "cell_type": "code",
   "execution_count": null,
   "id": "TZSDIRkUvJUB",
   "metadata": {
    "colab": {
     "base_uri": "https://localhost:8080/"
    },
    "id": "TZSDIRkUvJUB",
    "outputId": "704065d5-115b-435f-9f84-36cc6c25ca9f"
   },
   "outputs": [],
   "source": [
    "NBC = MultinomialNB()\n",
    "NBC.fit(xv_train, y_train)\n",
    "y_pred = NBC.predict(xv_test)\n",
    "\n",
    "scores['NBC'] = [NBC.score(xv_test, y_test)]\n",
    "\n",
    "print(confusion_matrix(y_test, y_pred))"
   ]
  },
  {
   "cell_type": "markdown",
   "id": "fzGl7rNsvWdQ",
   "metadata": {
    "id": "fzGl7rNsvWdQ"
   },
   "source": [
    "### Support Vector Machine"
   ]
  },
  {
   "cell_type": "code",
   "execution_count": null,
   "id": "6unwEgN6vJXX",
   "metadata": {
    "colab": {
     "base_uri": "https://localhost:8080/"
    },
    "id": "6unwEgN6vJXX",
    "outputId": "a70d25d9-3c32-4d88-8987-804741f4738c"
   },
   "outputs": [],
   "source": [
    "SV = SVC()\n",
    "SV.fit(xv_train, y_train)\n",
    "y_pred = SV.predict(xv_test)\n",
    "\n",
    "scores['SVC'] = [SV.score(xv_test, y_test)]\n",
    "\n",
    "print(confusion_matrix(y_test, y_pred))"
   ]
  },
  {
   "cell_type": "code",
   "execution_count": null,
   "id": "Rj1aFMwDwUus",
   "metadata": {
    "colab": {
     "base_uri": "https://localhost:8080/"
    },
    "id": "Rj1aFMwDwUus",
    "outputId": "f4897db4-b3f3-4ffa-d7e6-79e745a1b5fd"
   },
   "outputs": [],
   "source": [
    "scores"
   ]
  },
  {
   "cell_type": "markdown",
   "id": "2MiUDBkQ5JRz",
   "metadata": {
    "id": "2MiUDBkQ5JRz"
   },
   "source": [
    "Writing Scores to Files"
   ]
  },
  {
   "cell_type": "code",
   "execution_count": null,
   "id": "20uhBIk42ryj",
   "metadata": {
    "id": "20uhBIk42ryj"
   },
   "outputs": [],
   "source": [
    "from pathlib import Path\n",
    "\n",
    "path = Path('/content/drive/MyDrive/stats.csv')\n",
    "if not path.is_file():\n",
    "  # stat = pd.DataFrame(columns=['Sample_Size', 'LR', 'DTC', 'GBC', 'RFC'])\n",
    "  stat = pd.DataFrame(scores)\n",
    "else:\n",
    " b\n",
    "\n",
    "if sample_size not in stat.Sample_Size.unique():\n",
    "  stat = pd.concat([stat, pd.DataFrame(scores)])\n",
    "\n",
    "stat.sort_values(by='Sample_Size', inplace=True)\n",
    "\n",
    "stat.to_csv('/content/drive/MyDrive/stats.csv', mode='w', index=False)\n",
    "stat.to_csv('stats.csv', mode='w', index=False)"
   ]
  },
  {
   "cell_type": "code",
   "execution_count": null,
   "id": "u3aWI1JlRlTH",
   "metadata": {
    "id": "u3aWI1JlRlTH"
   },
   "outputs": [],
   "source": [
    " stat = pd.read_csv('/content/drive/MyDrive/stats.csv')"
   ]
  },
  {
   "cell_type": "code",
   "execution_count": null,
   "id": "hizOs_qQ1Q1z",
   "metadata": {
    "id": "hizOs_qQ1Q1z"
   },
   "outputs": [],
   "source": [
    "fil.write(str(scores))\n",
    "fil.close()"
   ]
  },
  {
   "cell_type": "code",
   "execution_count": null,
   "id": "WoSI3x8DGz7w",
   "metadata": {
    "id": "WoSI3x8DGz7w"
   },
   "outputs": [],
   "source": [
    "# stat = stat[3:]"
   ]
  },
  {
   "cell_type": "code",
   "execution_count": null,
   "id": "DN6A35RTG3LL",
   "metadata": {
    "id": "DN6A35RTG3LL"
   },
   "outputs": [],
   "source": [
    "stat.Sample_Size = stat.Sample_Size.astype(str)"
   ]
  },
  {
   "cell_type": "code",
   "execution_count": null,
   "id": "5b60c932",
   "metadata": {},
   "outputs": [],
   "source": [
    "stat = pd.read_csv('scores.csv')\n",
    "stat.head()"
   ]
  },
  {
   "cell_type": "code",
   "execution_count": null,
   "id": "cffd2926",
   "metadata": {},
   "outputs": [],
   "source": [
    "from matplotlib.pyplot import figure\n",
    "figure(figsize=(16,9))\n",
    "plt.plot(stat.Sample_Size, stat['Decision Tree'], label=\"Decision Tree\")\n",
    "plt.plot(stat.Sample_Size, stat['Naive Baye'], label=\"Naive Bayes Classifier\")\n",
    "plt.plot(stat.Sample_Size, stat['Support Vector'], label=\"Support Vector Classifier\")\n",
    "plt.xlabel('Sample Size')\n",
    "plt.ylabel('Accuracy Score')\n",
    "plt.legend()\n",
    "\n",
    "plt.savefig('graph_.png', dpi=300)"
   ]
  },
  {
   "cell_type": "code",
   "execution_count": null,
   "id": "GNQFJEbK-rPb",
   "metadata": {
    "colab": {
     "base_uri": "https://localhost:8080/"
    },
    "id": "GNQFJEbK-rPb",
    "outputId": "8f6a4f37-0723-457e-a4d3-ba3be2b3c5b8"
   },
   "outputs": [],
   "source": [
    "scores"
   ]
  },
  {
   "cell_type": "code",
   "execution_count": null,
   "id": "WzPMQo55-s-1",
   "metadata": {
    "id": "WzPMQo55-s-1"
   },
   "outputs": [],
   "source": [
    "stat.drop(labels=[0,1,2,3], inplace=True)"
   ]
  },
  {
   "cell_type": "code",
   "execution_count": null,
   "id": "JYoiyau9CCSs",
   "metadata": {
    "colab": {
     "base_uri": "https://localhost:8080/",
     "height": 206
    },
    "id": "JYoiyau9CCSs",
    "outputId": "8784ad4b-1832-40ba-e4c4-7c2c7c8c9075"
   },
   "outputs": [],
   "source": [
    "stat"
   ]
  },
  {
   "cell_type": "code",
   "execution_count": null,
   "id": "y0uDOr8262kE",
   "metadata": {
    "colab": {
     "base_uri": "https://localhost:8080/"
    },
    "id": "y0uDOr8262kE",
    "outputId": "7c987f48-9f4c-4fd5-9607-c22bb07d66e0"
   },
   "outputs": [],
   "source": [
    "dp = stat.loc[stat.Sample_Size == str(sample_size)]\n",
    "dp\n",
    "\n",
    "for key in list(scores.keys()):\n",
    "  stat.loc[stat.Sample_Size == str(sample_size)][key] = scores[key]\n",
    "\n",
    "# list(scores.keys())"
   ]
  },
  {
   "cell_type": "code",
   "execution_count": null,
   "id": "HEZ3o-ti-Ckm",
   "metadata": {
    "id": "HEZ3o-ti-Ckm"
   },
   "outputs": [],
   "source": []
  }
 ],
 "metadata": {
  "colab": {
   "collapsed_sections": [],
   "name": "Fake News Detection Final.ipynb",
   "provenance": []
  },
  "kernelspec": {
   "display_name": "Python 3 (ipykernel)",
   "language": "python",
   "name": "python3"
  },
  "language_info": {
   "codemirror_mode": {
    "name": "ipython",
    "version": 3
   },
   "file_extension": ".py",
   "mimetype": "text/x-python",
   "name": "python",
   "nbconvert_exporter": "python",
   "pygments_lexer": "ipython3",
   "version": "3.10.1"
  }
 },
 "nbformat": 4,
 "nbformat_minor": 5
}
