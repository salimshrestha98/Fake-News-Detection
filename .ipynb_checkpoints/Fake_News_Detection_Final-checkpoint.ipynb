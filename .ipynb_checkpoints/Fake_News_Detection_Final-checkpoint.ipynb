{
 "cells": [
  {
   "cell_type": "code",
   "execution_count": null,
   "id": "RuYCk7M-akhO",
   "metadata": {
    "colab": {
     "base_uri": "https://localhost:8080/"
    },
    "id": "RuYCk7M-akhO",
    "outputId": "a0acc1d0-4588-4e7c-b876-0d5fbddc1443"
   },
   "outputs": [
    {
     "name": "stdout",
     "output_type": "stream",
     "text": [
      "Drive already mounted at /content/drive; to attempt to forcibly remount, call drive.mount(\"/content/drive\", force_remount=True).\n"
     ]
    }
   ],
   "source": [
    "# from google.colab import drive\n",
    "# drive.mount('/content/drive')"
   ]
  },
  {
   "cell_type": "markdown",
   "id": "6b0a1e1f",
   "metadata": {
    "id": "6b0a1e1f"
   },
   "source": [
    "# Fake News Detection\n",
    "###Dataset: Kaggle Fake News Dataset\n",
    "\n",
    "### Vectorizer: TfIdfVectorizer\n",
    "\n",
    "### Machine Learning Models:\n",
    "\n",
    "\n",
    "1. Logistic Regression\n",
    "2. Decision Tree Classifier\n",
    "3. Gradient Boosting Classifier  \n",
    "4. Random Forest Classifier\n"
   ]
  },
  {
   "cell_type": "markdown",
   "id": "CX1W95AjNzaU",
   "metadata": {
    "id": "CX1W95AjNzaU"
   },
   "source": []
  },
  {
   "cell_type": "code",
   "execution_count": 2,
   "id": "4f592ac1",
   "metadata": {
    "id": "4f592ac1",
    "scrolled": true
   },
   "outputs": [
    {
     "ename": "ModuleNotFoundError",
     "evalue": "No module named 'nltk'",
     "output_type": "error",
     "traceback": [
      "\u001b[1;31m---------------------------------------------------------------------------\u001b[0m",
      "\u001b[1;31mModuleNotFoundError\u001b[0m                       Traceback (most recent call last)",
      "Input \u001b[1;32mIn [2]\u001b[0m, in \u001b[0;36m<module>\u001b[1;34m\u001b[0m\n\u001b[0;32m     18\u001b[0m \u001b[38;5;28;01mfrom\u001b[39;00m \u001b[38;5;21;01msklearn\u001b[39;00m\u001b[38;5;21;01m.\u001b[39;00m\u001b[38;5;21;01msvm\u001b[39;00m \u001b[38;5;28;01mimport\u001b[39;00m SVC\n\u001b[0;32m     20\u001b[0m \u001b[38;5;28;01mfrom\u001b[39;00m \u001b[38;5;21;01msklearn\u001b[39;00m\u001b[38;5;21;01m.\u001b[39;00m\u001b[38;5;21;01mmetrics\u001b[39;00m \u001b[38;5;28;01mimport\u001b[39;00m classification_report, confusion_matrix, accuracy_score\n\u001b[1;32m---> 22\u001b[0m \u001b[38;5;28;01mimport\u001b[39;00m \u001b[38;5;21;01mnltk\u001b[39;00m\n\u001b[0;32m     23\u001b[0m \u001b[38;5;28;01mfrom\u001b[39;00m \u001b[38;5;21;01mnltk\u001b[39;00m\u001b[38;5;21;01m.\u001b[39;00m\u001b[38;5;21;01mcorpus\u001b[39;00m \u001b[38;5;28;01mimport\u001b[39;00m stopwords\n\u001b[0;32m     25\u001b[0m \u001b[38;5;28;01mimport\u001b[39;00m \u001b[38;5;21;01mpickle\u001b[39;00m\n",
      "\u001b[1;31mModuleNotFoundError\u001b[0m: No module named 'nltk'"
     ]
    }
   ],
   "source": [
    "# Importing Essential Libraries\n",
    "\n",
    "import numpy as np\n",
    "import pandas as pd\n",
    "import matplotlib.pyplot as plt\n",
    "import seaborn as sns\n",
    "import re\n",
    "import string\n",
    "\n",
    "from sklearn.model_selection import train_test_split\n",
    "\n",
    "from sklearn.linear_model import LogisticRegression\n",
    "from sklearn.tree import DecisionTreeClassifier\n",
    "from sklearn.ensemble import GradientBoostingClassifier\n",
    "from sklearn.ensemble import RandomForestClassifier\n",
    "from sklearn.linear_model import PassiveAggressiveClassifier\n",
    "from sklearn.naive_bayes import MultinomialNB\n",
    "from sklearn.svm import SVC\n",
    "\n",
    "from sklearn.metrics import classification_report, confusion_matrix, accuracy_score\n",
    "\n",
    "import nltk\n",
    "from nltk.corpus import stopwords\n",
    "\n",
    "import pickle"
   ]
  },
  {
   "cell_type": "code",
   "execution_count": 3,
   "id": "6928f41b",
   "metadata": {},
   "outputs": [
    {
     "name": "stdout",
     "output_type": "stream",
     "text": [
      "Collecting nltk\n",
      "  Using cached nltk-3.7-py3-none-any.whl (1.5 MB)\n",
      "Requirement already satisfied: click in c:\\users\\acer\\desktop\\demoenv\\lib\\site-packages (from nltk) (8.0.4)\n",
      "Requirement already satisfied: joblib in c:\\users\\acer\\desktop\\demoenv\\lib\\site-packages (from nltk) (1.1.0)\n",
      "Collecting tqdm\n",
      "  Using cached tqdm-4.63.0-py2.py3-none-any.whl (76 kB)\n",
      "Collecting regex>=2021.8.3\n",
      "  Using cached regex-2022.3.15-cp310-cp310-win_amd64.whl (274 kB)\n",
      "Requirement already satisfied: colorama in c:\\users\\acer\\desktop\\demoenv\\lib\\site-packages (from click->nltk) (0.4.4)\n",
      "Installing collected packages: tqdm, regex, nltk\n",
      "Successfully installed nltk-3.7 regex-2022.3.15 tqdm-4.63.0\n"
     ]
    }
   ],
   "source": [
    "!pip install nltk"
   ]
  },
  {
   "cell_type": "code",
   "execution_count": 4,
   "id": "ae044024",
   "metadata": {
    "colab": {
     "base_uri": "https://localhost:8080/"
    },
    "id": "ae044024",
    "outputId": "6160be04-4316-486f-e30b-5104cd2d194e"
   },
   "outputs": [
    {
     "data": {
      "text/plain": [
       "(20800, 5)"
      ]
     },
     "execution_count": 4,
     "metadata": {},
     "output_type": "execute_result"
    }
   ],
   "source": [
    "# Reading from CSV file into DataFrame\n",
    "\n",
    "df = pd.read_csv('train.csv')\n",
    "df.shape"
   ]
  },
  {
   "cell_type": "code",
   "execution_count": 5,
   "id": "VC87tfqAa1uj",
   "metadata": {
    "colab": {
     "base_uri": "https://localhost:8080/"
    },
    "id": "VC87tfqAa1uj",
    "outputId": "7db2ad07-91a4-4a83-ece4-5695c9a86f8a"
   },
   "outputs": [
    {
     "data": {
      "text/plain": [
       "(18285, 5)"
      ]
     },
     "execution_count": 5,
     "metadata": {},
     "output_type": "execute_result"
    }
   ],
   "source": [
    "# Filtering Null Attributes\n",
    "\n",
    "df.dropna(inplace=True)\n",
    "df.shape"
   ]
  },
  {
   "cell_type": "markdown",
   "id": "E325gHBSyB0d",
   "metadata": {
    "id": "E325gHBSyB0d"
   },
   "source": [
    "## Sampling"
   ]
  },
  {
   "cell_type": "code",
   "execution_count": 6,
   "id": "Dx2XzxaxyFgs",
   "metadata": {
    "id": "Dx2XzxaxyFgs"
   },
   "outputs": [],
   "source": [
    "sample_size = 10000\n",
    "# df = df.sample(sample_size)\n"
   ]
  },
  {
   "cell_type": "code",
   "execution_count": 7,
   "id": "5X1DxR4Omgxw",
   "metadata": {
    "id": "5X1DxR4Omgxw"
   },
   "outputs": [],
   "source": [
    "fil = open(\"stats.txt\", \"a\")\n",
    "fil.write(\"\\nSample Size: \"+ str(sample_size))\n",
    "scores = {\"Sample_Size\": sample_size}"
   ]
  },
  {
   "cell_type": "markdown",
   "id": "81f83589",
   "metadata": {
    "id": "81f83589"
   },
   "source": [
    "## Data Preprocessing"
   ]
  },
  {
   "cell_type": "code",
   "execution_count": 9,
   "id": "202d5737",
   "metadata": {
    "colab": {
     "base_uri": "https://localhost:8080/"
    },
    "id": "202d5737",
    "outputId": "b346a8b0-c107-4e9a-d7d0-07f79b7b3dfa"
   },
   "outputs": [
    {
     "ename": "NameError",
     "evalue": "name 'nltk' is not defined",
     "output_type": "error",
     "traceback": [
      "\u001b[1;31m---------------------------------------------------------------------------\u001b[0m",
      "\u001b[1;31mNameError\u001b[0m                                 Traceback (most recent call last)",
      "Input \u001b[1;32mIn [9]\u001b[0m, in \u001b[0;36m<module>\u001b[1;34m\u001b[0m\n\u001b[1;32m----> 1\u001b[0m \u001b[43mnltk\u001b[49m\u001b[38;5;241m.\u001b[39mdownload(\u001b[38;5;124m'\u001b[39m\u001b[38;5;124mstopwords\u001b[39m\u001b[38;5;124m'\u001b[39m)\n\u001b[0;32m      2\u001b[0m stop \u001b[38;5;241m=\u001b[39m \u001b[38;5;28mset\u001b[39m(stopwords\u001b[38;5;241m.\u001b[39mwords(\u001b[38;5;124m'\u001b[39m\u001b[38;5;124menglish\u001b[39m\u001b[38;5;124m'\u001b[39m))\n\u001b[0;32m      3\u001b[0m punctuation \u001b[38;5;241m=\u001b[39m \u001b[38;5;28mlist\u001b[39m(string\u001b[38;5;241m.\u001b[39mpunctuation)\n",
      "\u001b[1;31mNameError\u001b[0m: name 'nltk' is not defined"
     ]
    }
   ],
   "source": [
    "nltk.download('stopwords')\n",
    "stop = set(stopwords.words('english'))\n",
    "punctuation = list(string.punctuation)\n",
    "stop.update(punctuation)\n",
    "\n",
    "def preprocess(text):\n",
    "    if( type(text) != str):\n",
    "        text = ''\n",
    "        return\n",
    "\n",
    "    # Coverting text to lowercase\n",
    "\n",
    "    text = text.lower()\n",
    "\n",
    "    # Removing Newline Characters\n",
    "\n",
    "    text = re.sub('\\n', '', text)\n",
    "\n",
    "    # Removing Whitespaces\n",
    "\n",
    "    text = re.sub('\\\\W', ' ', text)\n",
    "\n",
    "    # Removing Square Brackets\n",
    "\n",
    "    text = re.sub('\\[[^]]*\\]', '', text)\n",
    "\n",
    "    # Removing URL's\n",
    "\n",
    "    re.sub(r'http\\S+', '', text)\n",
    "\n",
    "    # Other Preprocessing tasks\n",
    "    text = re.sub('\\[.*>\\]', '', text)\n",
    "    text = re.sub('\\w*\\d\\w*', '', text)\n",
    "\n",
    "    # Removing Stop Words\n",
    "\n",
    "    final_text = []\n",
    "    for i in text.split():\n",
    "        if i.strip().lower() not in stop:\n",
    "            final_text.append(i.strip())\n",
    "    text = \" \".join(final_text)\n",
    "\n",
    "    # Returning the processed text\n",
    "    \n",
    "    return text"
   ]
  },
  {
   "cell_type": "code",
   "execution_count": null,
   "id": "92df0bbf",
   "metadata": {
    "id": "92df0bbf"
   },
   "outputs": [],
   "source": [
    "# Combining all attributes into single attribute\n",
    "\n",
    "df['combined'] = df['author'] + ' ' + df['title'] + ' ' + df['text']\n",
    "\n",
    "# Applying preprocessing tasks to combined attributes\n",
    "\n",
    "df['combined'] = df['combined'].apply(preprocess)"
   ]
  },
  {
   "cell_type": "markdown",
   "id": "kKscybGcf62k",
   "metadata": {
    "id": "kKscybGcf62k"
   },
   "source": [
    "## Data Analysis"
   ]
  },
  {
   "cell_type": "code",
   "execution_count": null,
   "id": "HPU8ZQySdCbk",
   "metadata": {
    "colab": {
     "base_uri": "https://localhost:8080/",
     "height": 367
    },
    "id": "HPU8ZQySdCbk",
    "outputId": "1ec7f526-ddb7-4b71-b687-1d57e6bfb8c6"
   },
   "outputs": [
    {
     "data": {
      "text/html": [
       "\n",
       "  <div id=\"df-0b31c213-fcfd-45e7-a280-4274e610dc59\">\n",
       "    <div class=\"colab-df-container\">\n",
       "      <div>\n",
       "<style scoped>\n",
       "    .dataframe tbody tr th:only-of-type {\n",
       "        vertical-align: middle;\n",
       "    }\n",
       "\n",
       "    .dataframe tbody tr th {\n",
       "        vertical-align: top;\n",
       "    }\n",
       "\n",
       "    .dataframe thead th {\n",
       "        text-align: right;\n",
       "    }\n",
       "</style>\n",
       "<table border=\"1\" class=\"dataframe\">\n",
       "  <thead>\n",
       "    <tr style=\"text-align: right;\">\n",
       "      <th></th>\n",
       "      <th>id</th>\n",
       "      <th>title</th>\n",
       "      <th>author</th>\n",
       "      <th>text</th>\n",
       "      <th>label</th>\n",
       "      <th>combined</th>\n",
       "      <th>title_length</th>\n",
       "      <th>text_length</th>\n",
       "      <th>title_words</th>\n",
       "      <th>text_words</th>\n",
       "    </tr>\n",
       "  </thead>\n",
       "  <tbody>\n",
       "    <tr>\n",
       "      <th>12506</th>\n",
       "      <td>12506</td>\n",
       "      <td>President Trump Declines Invite to Throw Out F...</td>\n",
       "      <td>Warner Todd Huston</td>\n",
       "      <td>Early on Tuesday rumors began circulating that...</td>\n",
       "      <td>0</td>\n",
       "      <td>warner todd huston president trump declines in...</td>\n",
       "      <td>81</td>\n",
       "      <td>1203</td>\n",
       "      <td>14</td>\n",
       "      <td>203</td>\n",
       "    </tr>\n",
       "    <tr>\n",
       "      <th>8171</th>\n",
       "      <td>8171</td>\n",
       "      <td>Republicans Start Lining Up to Fight for the N...</td>\n",
       "      <td>Michael Cooper and Sopan Deb</td>\n",
       "      <td>At first blush it’s like a dream come true for...</td>\n",
       "      <td>0</td>\n",
       "      <td>michael cooper sopan deb republicans start lin...</td>\n",
       "      <td>83</td>\n",
       "      <td>7240</td>\n",
       "      <td>16</td>\n",
       "      <td>1230</td>\n",
       "    </tr>\n",
       "  </tbody>\n",
       "</table>\n",
       "</div>\n",
       "      <button class=\"colab-df-convert\" onclick=\"convertToInteractive('df-0b31c213-fcfd-45e7-a280-4274e610dc59')\"\n",
       "              title=\"Convert this dataframe to an interactive table.\"\n",
       "              style=\"display:none;\">\n",
       "        \n",
       "  <svg xmlns=\"http://www.w3.org/2000/svg\" height=\"24px\"viewBox=\"0 0 24 24\"\n",
       "       width=\"24px\">\n",
       "    <path d=\"M0 0h24v24H0V0z\" fill=\"none\"/>\n",
       "    <path d=\"M18.56 5.44l.94 2.06.94-2.06 2.06-.94-2.06-.94-.94-2.06-.94 2.06-2.06.94zm-11 1L8.5 8.5l.94-2.06 2.06-.94-2.06-.94L8.5 2.5l-.94 2.06-2.06.94zm10 10l.94 2.06.94-2.06 2.06-.94-2.06-.94-.94-2.06-.94 2.06-2.06.94z\"/><path d=\"M17.41 7.96l-1.37-1.37c-.4-.4-.92-.59-1.43-.59-.52 0-1.04.2-1.43.59L10.3 9.45l-7.72 7.72c-.78.78-.78 2.05 0 2.83L4 21.41c.39.39.9.59 1.41.59.51 0 1.02-.2 1.41-.59l7.78-7.78 2.81-2.81c.8-.78.8-2.07 0-2.86zM5.41 20L4 18.59l7.72-7.72 1.47 1.35L5.41 20z\"/>\n",
       "  </svg>\n",
       "      </button>\n",
       "      \n",
       "  <style>\n",
       "    .colab-df-container {\n",
       "      display:flex;\n",
       "      flex-wrap:wrap;\n",
       "      gap: 12px;\n",
       "    }\n",
       "\n",
       "    .colab-df-convert {\n",
       "      background-color: #E8F0FE;\n",
       "      border: none;\n",
       "      border-radius: 50%;\n",
       "      cursor: pointer;\n",
       "      display: none;\n",
       "      fill: #1967D2;\n",
       "      height: 32px;\n",
       "      padding: 0 0 0 0;\n",
       "      width: 32px;\n",
       "    }\n",
       "\n",
       "    .colab-df-convert:hover {\n",
       "      background-color: #E2EBFA;\n",
       "      box-shadow: 0px 1px 2px rgba(60, 64, 67, 0.3), 0px 1px 3px 1px rgba(60, 64, 67, 0.15);\n",
       "      fill: #174EA6;\n",
       "    }\n",
       "\n",
       "    [theme=dark] .colab-df-convert {\n",
       "      background-color: #3B4455;\n",
       "      fill: #D2E3FC;\n",
       "    }\n",
       "\n",
       "    [theme=dark] .colab-df-convert:hover {\n",
       "      background-color: #434B5C;\n",
       "      box-shadow: 0px 1px 3px 1px rgba(0, 0, 0, 0.15);\n",
       "      filter: drop-shadow(0px 1px 2px rgba(0, 0, 0, 0.3));\n",
       "      fill: #FFFFFF;\n",
       "    }\n",
       "  </style>\n",
       "\n",
       "      <script>\n",
       "        const buttonEl =\n",
       "          document.querySelector('#df-0b31c213-fcfd-45e7-a280-4274e610dc59 button.colab-df-convert');\n",
       "        buttonEl.style.display =\n",
       "          google.colab.kernel.accessAllowed ? 'block' : 'none';\n",
       "\n",
       "        async function convertToInteractive(key) {\n",
       "          const element = document.querySelector('#df-0b31c213-fcfd-45e7-a280-4274e610dc59');\n",
       "          const dataTable =\n",
       "            await google.colab.kernel.invokeFunction('convertToInteractive',\n",
       "                                                     [key], {});\n",
       "          if (!dataTable) return;\n",
       "\n",
       "          const docLinkHtml = 'Like what you see? Visit the ' +\n",
       "            '<a target=\"_blank\" href=https://colab.research.google.com/notebooks/data_table.ipynb>data table notebook</a>'\n",
       "            + ' to learn more about interactive tables.';\n",
       "          element.innerHTML = '';\n",
       "          dataTable['output_type'] = 'display_data';\n",
       "          await google.colab.output.renderOutput(dataTable, element);\n",
       "          const docLink = document.createElement('div');\n",
       "          docLink.innerHTML = docLinkHtml;\n",
       "          element.appendChild(docLink);\n",
       "        }\n",
       "      </script>\n",
       "    </div>\n",
       "  </div>\n",
       "  "
      ],
      "text/plain": [
       "          id                                              title  \\\n",
       "12506  12506  President Trump Declines Invite to Throw Out F...   \n",
       "8171    8171  Republicans Start Lining Up to Fight for the N...   \n",
       "\n",
       "                             author  \\\n",
       "12506            Warner Todd Huston   \n",
       "8171   Michael Cooper and Sopan Deb   \n",
       "\n",
       "                                                    text  label  \\\n",
       "12506  Early on Tuesday rumors began circulating that...      0   \n",
       "8171   At first blush it’s like a dream come true for...      0   \n",
       "\n",
       "                                                combined  title_length  \\\n",
       "12506  warner todd huston president trump declines in...            81   \n",
       "8171   michael cooper sopan deb republicans start lin...            83   \n",
       "\n",
       "       text_length  title_words  text_words  \n",
       "12506         1203           14         203  \n",
       "8171          7240           16        1230  "
      ]
     },
     "execution_count": 9,
     "metadata": {},
     "output_type": "execute_result"
    }
   ],
   "source": [
    "# Calculating Title Length, Text Length\n",
    "\n",
    "df['title_length'] = [len(x) for x in df['title']]\n",
    "df['text_length'] = [len(x) for x in df['text']]\n",
    "\n",
    "\n",
    "# Calculating No. of words in Title and Text\n",
    "\n",
    "df['title_words'] = [len(x.split()) for x in df['title']]\n",
    "df['text_words'] = [len(x.split()) for x in df['text']]\n",
    "\n",
    "df.head(2)"
   ]
  },
  {
   "cell_type": "markdown",
   "id": "W4AIVuDwkrtK",
   "metadata": {
    "id": "W4AIVuDwkrtK"
   },
   "source": [
    "Comparing Between True and Fake Articles"
   ]
  },
  {
   "cell_type": "code",
   "execution_count": null,
   "id": "uJLVOZSUgGV0",
   "metadata": {
    "colab": {
     "base_uri": "https://localhost:8080/",
     "height": 295
    },
    "id": "uJLVOZSUgGV0",
    "outputId": "a7a548c1-d241-41a6-842d-485880208a22"
   },
   "outputs": [
    {
     "data": {
      "image/png": "[encoded data removed]",
      "text/plain": [
       "<Figure size 432x288 with 1 Axes>"
      ]
     },
     "metadata": {
      "needs_background": "light"
     },
     "output_type": "display_data"
    }
   ],
   "source": [
    "true_news = df.loc[df['label'] == 0]\n",
    "fake_news = df.loc[df['label'] == 1]\n",
    "\n",
    "plt.bar(['Fake', 'Not Fake'], [fake_news.size, true_news.size], color=['m','g'])\n",
    "plt.xlabel('News Category')\n",
    "plt.ylabel('Count')\n",
    "plt.title('Distribution of Fake and Not Fake News')\n",
    "\n",
    "plt.savefig('/content/drive/MyDrive/fake_news_img/dist_comp_'+str(sample_size)+'.png', dpi=300)"
   ]
  },
  {
   "cell_type": "code",
   "execution_count": null,
   "id": "ZFJalaLBkmSF",
   "metadata": {
    "id": "ZFJalaLBkmSF"
   },
   "outputs": [],
   "source": [
    "from matplotlib.pyplot import figure"
   ]
  },
  {
   "cell_type": "code",
   "execution_count": null,
   "id": "357UCtOohH4Z",
   "metadata": {
    "colab": {
     "base_uri": "https://localhost:8080/",
     "height": 605
    },
    "id": "357UCtOohH4Z",
    "outputId": "e2d23025-68ac-4b6f-fe9b-18abcad1f78d"
   },
   "outputs": [
    {
     "data": {
      "image/png": "[encoded data removed]",
      "text/plain": [
       "<Figure size 1440x1080 with 8 Axes>"
      ]
     },
     "metadata": {
      "needs_background": "light"
     },
     "output_type": "display_data"
    }
   ],
   "source": [
    "figure(figsize = (20,15))\n",
    "\n",
    "plt.subplot(421)\n",
    "buckets_title = np.arange(0, 210, 10)\n",
    "plt.hist(true_news.title_length, rwidth=0.5, bins=buckets_title)\n",
    "plt.title('Title Length of True News Articles')\n",
    "plt.ylabel('Title Length')\n",
    "\n",
    "plt.subplot(422)\n",
    "plt.hist(fake_news.title_length, rwidth=0.5, bins=buckets_title)\n",
    "plt.title('Title Length of Fake News Articles')\n",
    "plt.ylabel('Title Length')\n",
    "\n",
    "plt.subplot(423)\n",
    "buckets_text = np.arange(0, 22000, 2000)\n",
    "plt.hist(true_news.text_length, rwidth=0.5, bins=buckets_text)\n",
    "plt.title('Text Length of True News Articles')\n",
    "plt.ylabel('Text Length')\n",
    "\n",
    "plt.subplot(424)\n",
    "plt.hist(fake_news.text_length, rwidth=0.5, bins=buckets_text)\n",
    "plt.title('Text Length of Fake News Articles')\n",
    "plt.ylabel('Text Length')\n",
    "\n",
    "plt.subplot(425)\n",
    "title_words_bucket = np.arange(0, 60, 10)\n",
    "plt.hist(true_news.title_words, rwidth=0.5, bins=title_words_bucket)\n",
    "plt.title('Title Word Count of True News Articles')\n",
    "plt.ylabel('Title Word Count')\n",
    "\n",
    "plt.subplot(426)\n",
    "plt.hist(fake_news.title_words, rwidth=0.5, bins=title_words_bucket)\n",
    "plt.title('Title Word Count of Fake News Articles')\n",
    "plt.ylabel('Title Word Count')\n",
    "\n",
    "plt.subplot(427)\n",
    "text_words_bucket = np.arange(0, 5500, 500)\n",
    "plt.hist(true_news.text_words, rwidth=0.5, bins=text_words_bucket)\n",
    "plt.title('Text Word Count of True News Articles')\n",
    "plt.ylabel('Text Word Count')\n",
    "\n",
    "plt.subplot(428)\n",
    "plt.hist(fake_news.text_words, rwidth=0.5, bins=text_words_bucket)\n",
    "plt.title('Text Word Count of Fake News Articles')\n",
    "plt.ylabel('Text Word Count')\n",
    "\n",
    "plt.savefig('/content/drive/MyDrive/fake_news_img/comparision_'+str(sample_size)+'.png', dpi=300)"
   ]
  },
  {
   "cell_type": "markdown",
   "id": "TtouPpvXl2gi",
   "metadata": {
    "id": "TtouPpvXl2gi"
   },
   "source": [
    "### True News Articles Statistics"
   ]
  },
  {
   "cell_type": "code",
   "execution_count": null,
   "id": "HStS54O5gFGB",
   "metadata": {
    "colab": {
     "base_uri": "https://localhost:8080/",
     "height": 112
    },
    "id": "HStS54O5gFGB",
    "outputId": "75c723b7-9aeb-47f6-a857-18b27adf031f"
   },
   "outputs": [
    {
     "data": {
      "text/html": [
       "\n",
       "  <div id=\"df-ec239568-9586-4084-9af6-d76496e9f3e9\">\n",
       "    <div class=\"colab-df-container\">\n",
       "      <div>\n",
       "<style scoped>\n",
       "    .dataframe tbody tr th:only-of-type {\n",
       "        vertical-align: middle;\n",
       "    }\n",
       "\n",
       "    .dataframe tbody tr th {\n",
       "        vertical-align: top;\n",
       "    }\n",
       "\n",
       "    .dataframe thead th {\n",
       "        text-align: right;\n",
       "    }\n",
       "</style>\n",
       "<table border=\"1\" class=\"dataframe\">\n",
       "  <thead>\n",
       "    <tr style=\"text-align: right;\">\n",
       "      <th></th>\n",
       "      <th>title_length</th>\n",
       "      <th>text_length</th>\n",
       "      <th>title_words</th>\n",
       "      <th>text_words</th>\n",
       "    </tr>\n",
       "  </thead>\n",
       "  <tbody>\n",
       "    <tr>\n",
       "      <th>mean</th>\n",
       "      <td>79</td>\n",
       "      <td>5138</td>\n",
       "      <td>13</td>\n",
       "      <td>865</td>\n",
       "    </tr>\n",
       "    <tr>\n",
       "      <th>std</th>\n",
       "      <td>15</td>\n",
       "      <td>4233</td>\n",
       "      <td>2</td>\n",
       "      <td>723</td>\n",
       "    </tr>\n",
       "  </tbody>\n",
       "</table>\n",
       "</div>\n",
       "      <button class=\"colab-df-convert\" onclick=\"convertToInteractive('df-ec239568-9586-4084-9af6-d76496e9f3e9')\"\n",
       "              title=\"Convert this dataframe to an interactive table.\"\n",
       "              style=\"display:none;\">\n",
       "        \n",
       "  <svg xmlns=\"http://www.w3.org/2000/svg\" height=\"24px\"viewBox=\"0 0 24 24\"\n",
       "       width=\"24px\">\n",
       "    <path d=\"M0 0h24v24H0V0z\" fill=\"none\"/>\n",
       "    <path d=\"M18.56 5.44l.94 2.06.94-2.06 2.06-.94-2.06-.94-.94-2.06-.94 2.06-2.06.94zm-11 1L8.5 8.5l.94-2.06 2.06-.94-2.06-.94L8.5 2.5l-.94 2.06-2.06.94zm10 10l.94 2.06.94-2.06 2.06-.94-2.06-.94-.94-2.06-.94 2.06-2.06.94z\"/><path d=\"M17.41 7.96l-1.37-1.37c-.4-.4-.92-.59-1.43-.59-.52 0-1.04.2-1.43.59L10.3 9.45l-7.72 7.72c-.78.78-.78 2.05 0 2.83L4 21.41c.39.39.9.59 1.41.59.51 0 1.02-.2 1.41-.59l7.78-7.78 2.81-2.81c.8-.78.8-2.07 0-2.86zM5.41 20L4 18.59l7.72-7.72 1.47 1.35L5.41 20z\"/>\n",
       "  </svg>\n",
       "      </button>\n",
       "      \n",
       "  <style>\n",
       "    .colab-df-container {\n",
       "      display:flex;\n",
       "      flex-wrap:wrap;\n",
       "      gap: 12px;\n",
       "    }\n",
       "\n",
       "    .colab-df-convert {\n",
       "      background-color: #E8F0FE;\n",
       "      border: none;\n",
       "      border-radius: 50%;\n",
       "      cursor: pointer;\n",
       "      display: none;\n",
       "      fill: #1967D2;\n",
       "      height: 32px;\n",
       "      padding: 0 0 0 0;\n",
       "      width: 32px;\n",
       "    }\n",
       "\n",
       "    .colab-df-convert:hover {\n",
       "      background-color: #E2EBFA;\n",
       "      box-shadow: 0px 1px 2px rgba(60, 64, 67, 0.3), 0px 1px 3px 1px rgba(60, 64, 67, 0.15);\n",
       "      fill: #174EA6;\n",
       "    }\n",
       "\n",
       "    [theme=dark] .colab-df-convert {\n",
       "      background-color: #3B4455;\n",
       "      fill: #D2E3FC;\n",
       "    }\n",
       "\n",
       "    [theme=dark] .colab-df-convert:hover {\n",
       "      background-color: #434B5C;\n",
       "      box-shadow: 0px 1px 3px 1px rgba(0, 0, 0, 0.15);\n",
       "      filter: drop-shadow(0px 1px 2px rgba(0, 0, 0, 0.3));\n",
       "      fill: #FFFFFF;\n",
       "    }\n",
       "  </style>\n",
       "\n",
       "      <script>\n",
       "        const buttonEl =\n",
       "          document.querySelector('#df-ec239568-9586-4084-9af6-d76496e9f3e9 button.colab-df-convert');\n",
       "        buttonEl.style.display =\n",
       "          google.colab.kernel.accessAllowed ? 'block' : 'none';\n",
       "\n",
       "        async function convertToInteractive(key) {\n",
       "          const element = document.querySelector('#df-ec239568-9586-4084-9af6-d76496e9f3e9');\n",
       "          const dataTable =\n",
       "            await google.colab.kernel.invokeFunction('convertToInteractive',\n",
       "                                                     [key], {});\n",
       "          if (!dataTable) return;\n",
       "\n",
       "          const docLinkHtml = 'Like what you see? Visit the ' +\n",
       "            '<a target=\"_blank\" href=https://colab.research.google.com/notebooks/data_table.ipynb>data table notebook</a>'\n",
       "            + ' to learn more about interactive tables.';\n",
       "          element.innerHTML = '';\n",
       "          dataTable['output_type'] = 'display_data';\n",
       "          await google.colab.output.renderOutput(dataTable, element);\n",
       "          const docLink = document.createElement('div');\n",
       "          docLink.innerHTML = docLinkHtml;\n",
       "          element.appendChild(docLink);\n",
       "        }\n",
       "      </script>\n",
       "    </div>\n",
       "  </div>\n",
       "  "
      ],
      "text/plain": [
       "      title_length  text_length  title_words  text_words\n",
       "mean            79         5138           13         865\n",
       "std             15         4233            2         723"
      ]
     },
     "execution_count": 13,
     "metadata": {},
     "output_type": "execute_result"
    }
   ],
   "source": [
    "true_news.drop(['id', 'label'], axis=1).describe().loc[['mean','std']].astype(int)"
   ]
  },
  {
   "cell_type": "markdown",
   "id": "2JJbm5C9nGuS",
   "metadata": {
    "id": "2JJbm5C9nGuS"
   },
   "source": [
    "### Fake News Articles Statistics"
   ]
  },
  {
   "cell_type": "code",
   "execution_count": null,
   "id": "ZRflqTESnBEr",
   "metadata": {
    "colab": {
     "base_uri": "https://localhost:8080/",
     "height": 112
    },
    "id": "ZRflqTESnBEr",
    "outputId": "5c37ffa9-1ffc-4e2c-89c4-1a6075cb40f4"
   },
   "outputs": [
    {
     "data": {
      "text/html": [
       "\n",
       "  <div id=\"df-fc94bcc8-9189-4e30-9c98-748dd0843cb3\">\n",
       "    <div class=\"colab-df-container\">\n",
       "      <div>\n",
       "<style scoped>\n",
       "    .dataframe tbody tr th:only-of-type {\n",
       "        vertical-align: middle;\n",
       "    }\n",
       "\n",
       "    .dataframe tbody tr th {\n",
       "        vertical-align: top;\n",
       "    }\n",
       "\n",
       "    .dataframe thead th {\n",
       "        text-align: right;\n",
       "    }\n",
       "</style>\n",
       "<table border=\"1\" class=\"dataframe\">\n",
       "  <thead>\n",
       "    <tr style=\"text-align: right;\">\n",
       "      <th></th>\n",
       "      <th>title_length</th>\n",
       "      <th>text_length</th>\n",
       "      <th>title_words</th>\n",
       "      <th>text_words</th>\n",
       "    </tr>\n",
       "  </thead>\n",
       "  <tbody>\n",
       "    <tr>\n",
       "      <th>mean</th>\n",
       "      <td>68</td>\n",
       "      <td>4241</td>\n",
       "      <td>10</td>\n",
       "      <td>700</td>\n",
       "    </tr>\n",
       "    <tr>\n",
       "      <th>std</th>\n",
       "      <td>27</td>\n",
       "      <td>6372</td>\n",
       "      <td>4</td>\n",
       "      <td>1064</td>\n",
       "    </tr>\n",
       "  </tbody>\n",
       "</table>\n",
       "</div>\n",
       "      <button class=\"colab-df-convert\" onclick=\"convertToInteractive('df-fc94bcc8-9189-4e30-9c98-748dd0843cb3')\"\n",
       "              title=\"Convert this dataframe to an interactive table.\"\n",
       "              style=\"display:none;\">\n",
       "        \n",
       "  <svg xmlns=\"http://www.w3.org/2000/svg\" height=\"24px\"viewBox=\"0 0 24 24\"\n",
       "       width=\"24px\">\n",
       "    <path d=\"M0 0h24v24H0V0z\" fill=\"none\"/>\n",
       "    <path d=\"M18.56 5.44l.94 2.06.94-2.06 2.06-.94-2.06-.94-.94-2.06-.94 2.06-2.06.94zm-11 1L8.5 8.5l.94-2.06 2.06-.94-2.06-.94L8.5 2.5l-.94 2.06-2.06.94zm10 10l.94 2.06.94-2.06 2.06-.94-2.06-.94-.94-2.06-.94 2.06-2.06.94z\"/><path d=\"M17.41 7.96l-1.37-1.37c-.4-.4-.92-.59-1.43-.59-.52 0-1.04.2-1.43.59L10.3 9.45l-7.72 7.72c-.78.78-.78 2.05 0 2.83L4 21.41c.39.39.9.59 1.41.59.51 0 1.02-.2 1.41-.59l7.78-7.78 2.81-2.81c.8-.78.8-2.07 0-2.86zM5.41 20L4 18.59l7.72-7.72 1.47 1.35L5.41 20z\"/>\n",
       "  </svg>\n",
       "      </button>\n",
       "      \n",
       "  <style>\n",
       "    .colab-df-container {\n",
       "      display:flex;\n",
       "      flex-wrap:wrap;\n",
       "      gap: 12px;\n",
       "    }\n",
       "\n",
       "    .colab-df-convert {\n",
       "      background-color: #E8F0FE;\n",
       "      border: none;\n",
       "      border-radius: 50%;\n",
       "      cursor: pointer;\n",
       "      display: none;\n",
       "      fill: #1967D2;\n",
       "      height: 32px;\n",
       "      padding: 0 0 0 0;\n",
       "      width: 32px;\n",
       "    }\n",
       "\n",
       "    .colab-df-convert:hover {\n",
       "      background-color: #E2EBFA;\n",
       "      box-shadow: 0px 1px 2px rgba(60, 64, 67, 0.3), 0px 1px 3px 1px rgba(60, 64, 67, 0.15);\n",
       "      fill: #174EA6;\n",
       "    }\n",
       "\n",
       "    [theme=dark] .colab-df-convert {\n",
       "      background-color: #3B4455;\n",
       "      fill: #D2E3FC;\n",
       "    }\n",
       "\n",
       "    [theme=dark] .colab-df-convert:hover {\n",
       "      background-color: #434B5C;\n",
       "      box-shadow: 0px 1px 3px 1px rgba(0, 0, 0, 0.15);\n",
       "      filter: drop-shadow(0px 1px 2px rgba(0, 0, 0, 0.3));\n",
       "      fill: #FFFFFF;\n",
       "    }\n",
       "  </style>\n",
       "\n",
       "      <script>\n",
       "        const buttonEl =\n",
       "          document.querySelector('#df-fc94bcc8-9189-4e30-9c98-748dd0843cb3 button.colab-df-convert');\n",
       "        buttonEl.style.display =\n",
       "          google.colab.kernel.accessAllowed ? 'block' : 'none';\n",
       "\n",
       "        async function convertToInteractive(key) {\n",
       "          const element = document.querySelector('#df-fc94bcc8-9189-4e30-9c98-748dd0843cb3');\n",
       "          const dataTable =\n",
       "            await google.colab.kernel.invokeFunction('convertToInteractive',\n",
       "                                                     [key], {});\n",
       "          if (!dataTable) return;\n",
       "\n",
       "          const docLinkHtml = 'Like what you see? Visit the ' +\n",
       "            '<a target=\"_blank\" href=https://colab.research.google.com/notebooks/data_table.ipynb>data table notebook</a>'\n",
       "            + ' to learn more about interactive tables.';\n",
       "          element.innerHTML = '';\n",
       "          dataTable['output_type'] = 'display_data';\n",
       "          await google.colab.output.renderOutput(dataTable, element);\n",
       "          const docLink = document.createElement('div');\n",
       "          docLink.innerHTML = docLinkHtml;\n",
       "          element.appendChild(docLink);\n",
       "        }\n",
       "      </script>\n",
       "    </div>\n",
       "  </div>\n",
       "  "
      ],
      "text/plain": [
       "      title_length  text_length  title_words  text_words\n",
       "mean            68         4241           10         700\n",
       "std             27         6372            4        1064"
      ]
     },
     "execution_count": 14,
     "metadata": {},
     "output_type": "execute_result"
    }
   ],
   "source": [
    "fake_news.drop(['id', 'label'], axis=1).describe().loc[['mean', 'std']].astype(int)"
   ]
  },
  {
   "cell_type": "markdown",
   "id": "62f59bf4",
   "metadata": {
    "id": "62f59bf4"
   },
   "source": [
    "## Model Training"
   ]
  },
  {
   "cell_type": "code",
   "execution_count": null,
   "id": "a95350fb",
   "metadata": {
    "id": "a95350fb"
   },
   "outputs": [],
   "source": [
    "x_train, x_test, y_train, y_test = train_test_split(df['combined'], df['label'], test_size=0.2, random_state=2)"
   ]
  },
  {
   "cell_type": "code",
   "execution_count": null,
   "id": "b4b054a8",
   "metadata": {
    "id": "b4b054a8"
   },
   "outputs": [],
   "source": [
    "from sklearn.feature_extraction.text import TfidfVectorizer"
   ]
  },
  {
   "cell_type": "code",
   "execution_count": null,
   "id": "d5c1a92f",
   "metadata": {
    "id": "d5c1a92f"
   },
   "outputs": [],
   "source": [
    "vectorization = TfidfVectorizer(stop_words=\"english\")\n",
    "xv_train = vectorization.fit_transform(x_train)\n",
    "xv_test = vectorization.transform(x_test)"
   ]
  },
  {
   "cell_type": "markdown",
   "id": "d668f0fa",
   "metadata": {
    "id": "d668f0fa"
   },
   "source": [
    "### Logistic Regression"
   ]
  },
  {
   "cell_type": "code",
   "execution_count": null,
   "id": "dbc1b675",
   "metadata": {
    "id": "dbc1b675"
   },
   "outputs": [],
   "source": [
    "LR = LogisticRegression()\n",
    "LR.fit(xv_train, y_train)\n",
    "y_pred = LR.predict(xv_test)"
   ]
  },
  {
   "cell_type": "code",
   "execution_count": null,
   "id": "6618b387",
   "metadata": {
    "id": "6618b387"
   },
   "outputs": [],
   "source": [
    "scores['LR'] = [LR.score(xv_test, y_test)]"
   ]
  },
  {
   "cell_type": "code",
   "execution_count": null,
   "id": "2r6-32Hv2pGN",
   "metadata": {
    "colab": {
     "base_uri": "https://localhost:8080/"
    },
    "id": "2r6-32Hv2pGN",
    "outputId": "04ccdc4e-735e-4dea-de19-c726abc15f8b"
   },
   "outputs": [
    {
     "name": "stdout",
     "output_type": "stream",
     "text": [
      "[[1132   32]\n",
      " [  45  791]]\n"
     ]
    }
   ],
   "source": [
    "print(confusion_matrix(y_test, y_pred))"
   ]
  },
  {
   "cell_type": "markdown",
   "id": "9766b41d",
   "metadata": {
    "id": "9766b41d"
   },
   "source": [
    "### Decision Tree Classification"
   ]
  },
  {
   "cell_type": "code",
   "execution_count": null,
   "id": "729341ee",
   "metadata": {
    "id": "729341ee"
   },
   "outputs": [],
   "source": [
    "DT = DecisionTreeClassifier()\n",
    "DT.fit(xv_train, y_train)\n",
    "y_pred = DT.predict(xv_test)"
   ]
  },
  {
   "cell_type": "code",
   "execution_count": null,
   "id": "192d251e",
   "metadata": {
    "id": "192d251e"
   },
   "outputs": [],
   "source": [
    "scores['DT'] = [DT.score(xv_test, y_test)]"
   ]
  },
  {
   "cell_type": "code",
   "execution_count": null,
   "id": "o9e-BAY32oHt",
   "metadata": {
    "colab": {
     "base_uri": "https://localhost:8080/"
    },
    "id": "o9e-BAY32oHt",
    "outputId": "ac02f20f-c477-4d75-b659-1af57d00c542"
   },
   "outputs": [
    {
     "name": "stdout",
     "output_type": "stream",
     "text": [
      "[[1107   57]\n",
      " [  54  782]]\n"
     ]
    }
   ],
   "source": [
    "print(confusion_matrix(y_test, y_pred))"
   ]
  },
  {
   "cell_type": "markdown",
   "id": "48824b33",
   "metadata": {
    "id": "48824b33"
   },
   "source": [
    "### Gradient Boosting Classifier"
   ]
  },
  {
   "cell_type": "code",
   "execution_count": null,
   "id": "2cf337f0",
   "metadata": {
    "id": "2cf337f0"
   },
   "outputs": [],
   "source": [
    "GBC = GradientBoostingClassifier(random_state=0)\n",
    "GBC.fit(xv_train, y_train)\n",
    "y_pred = GBC.predict(xv_test)"
   ]
  },
  {
   "cell_type": "code",
   "execution_count": null,
   "id": "11775fbf",
   "metadata": {
    "id": "11775fbf"
   },
   "outputs": [],
   "source": [
    "scores['GBC'] = [GBC.score(xv_test, y_test)]"
   ]
  },
  {
   "cell_type": "code",
   "execution_count": null,
   "id": "bkoKuf_v2nKn",
   "metadata": {
    "colab": {
     "base_uri": "https://localhost:8080/"
    },
    "id": "bkoKuf_v2nKn",
    "outputId": "b6145ccc-dac4-446b-be01-a1d2170dbbe5"
   },
   "outputs": [
    {
     "name": "stdout",
     "output_type": "stream",
     "text": [
      "[[1131   33]\n",
      " [  33  803]]\n"
     ]
    }
   ],
   "source": [
    "print(confusion_matrix(y_test, y_pred))"
   ]
  },
  {
   "cell_type": "markdown",
   "id": "c06d4763",
   "metadata": {
    "id": "c06d4763"
   },
   "source": [
    "### Random Forest Classifier"
   ]
  },
  {
   "cell_type": "code",
   "execution_count": null,
   "id": "728aa7ba",
   "metadata": {
    "id": "728aa7ba"
   },
   "outputs": [],
   "source": [
    "RFC = RandomForestClassifier(random_state=0)\n",
    "RFC.fit(xv_train, y_train)\n",
    "y_pred = RFC.predict(xv_test)"
   ]
  },
  {
   "cell_type": "code",
   "execution_count": null,
   "id": "34dc4c36",
   "metadata": {
    "id": "34dc4c36"
   },
   "outputs": [],
   "source": [
    "scores['RFC'] = [RFC.score(xv_test, y_test)]"
   ]
  },
  {
   "cell_type": "code",
   "execution_count": null,
   "id": "AUjhGoeAyBdA",
   "metadata": {
    "colab": {
     "base_uri": "https://localhost:8080/"
    },
    "id": "AUjhGoeAyBdA",
    "outputId": "023c8c63-25ca-4dd4-838f-e493106f8a9f"
   },
   "outputs": [
    {
     "name": "stdout",
     "output_type": "stream",
     "text": [
      "[[1152   12]\n",
      " [ 127  709]]\n"
     ]
    }
   ],
   "source": [
    "print(confusion_matrix(y_test, y_pred))"
   ]
  },
  {
   "cell_type": "markdown",
   "id": "AQbXNoOevMwS",
   "metadata": {
    "id": "AQbXNoOevMwS"
   },
   "source": [
    "### Passive Aggressive Classifier"
   ]
  },
  {
   "cell_type": "code",
   "execution_count": null,
   "id": "iEpWMvmBvJQ6",
   "metadata": {
    "colab": {
     "base_uri": "https://localhost:8080/"
    },
    "id": "iEpWMvmBvJQ6",
    "outputId": "cd2c94b1-ce65-4397-ca2f-fc3b3500b020"
   },
   "outputs": [
    {
     "name": "stdout",
     "output_type": "stream",
     "text": [
      "[[1135   29]\n",
      " [  40  796]]\n"
     ]
    }
   ],
   "source": [
    "PAC = PassiveAggressiveClassifier(max_iter=50)\n",
    "PAC.fit(xv_train, y_train)\n",
    "y_pred = PAC.predict(xv_test)\n",
    "\n",
    "scores['PAC'] = [PAC.score(xv_test, y_test)]\n",
    "\n",
    "print(confusion_matrix(y_test, y_pred))"
   ]
  },
  {
   "cell_type": "markdown",
   "id": "ydlt19w2vQ4H",
   "metadata": {
    "id": "ydlt19w2vQ4H"
   },
   "source": [
    "### Naive Bayes Classifier"
   ]
  },
  {
   "cell_type": "code",
   "execution_count": null,
   "id": "TZSDIRkUvJUB",
   "metadata": {
    "colab": {
     "base_uri": "https://localhost:8080/"
    },
    "id": "TZSDIRkUvJUB",
    "outputId": "704065d5-115b-435f-9f84-36cc6c25ca9f"
   },
   "outputs": [
    {
     "name": "stdout",
     "output_type": "stream",
     "text": [
      "[[1162    2]\n",
      " [ 476  360]]\n"
     ]
    }
   ],
   "source": [
    "NBC = MultinomialNB()\n",
    "NBC.fit(xv_train, y_train)\n",
    "y_pred = NBC.predict(xv_test)\n",
    "\n",
    "scores['NBC'] = [NBC.score(xv_test, y_test)]\n",
    "\n",
    "print(confusion_matrix(y_test, y_pred))"
   ]
  },
  {
   "cell_type": "markdown",
   "id": "fzGl7rNsvWdQ",
   "metadata": {
    "id": "fzGl7rNsvWdQ"
   },
   "source": [
    "### Support Vector Machine"
   ]
  },
  {
   "cell_type": "code",
   "execution_count": null,
   "id": "6unwEgN6vJXX",
   "metadata": {
    "colab": {
     "base_uri": "https://localhost:8080/"
    },
    "id": "6unwEgN6vJXX",
    "outputId": "a70d25d9-3c32-4d88-8987-804741f4738c"
   },
   "outputs": [
    {
     "name": "stdout",
     "output_type": "stream",
     "text": [
      "[[1136   28]\n",
      " [  36  800]]\n"
     ]
    }
   ],
   "source": [
    "SV = SVC()\n",
    "SV.fit(xv_train, y_train)\n",
    "y_pred = SV.predict(xv_test)\n",
    "\n",
    "scores['SVC'] = [SV.score(xv_test, y_test)]\n",
    "\n",
    "print(confusion_matrix(y_test, y_pred))"
   ]
  },
  {
   "cell_type": "code",
   "execution_count": null,
   "id": "Rj1aFMwDwUus",
   "metadata": {
    "colab": {
     "base_uri": "https://localhost:8080/"
    },
    "id": "Rj1aFMwDwUus",
    "outputId": "f4897db4-b3f3-4ffa-d7e6-79e745a1b5fd"
   },
   "outputs": [
    {
     "data": {
      "text/plain": [
       "{'DT': [0.9445],\n",
       " 'GBC': [0.967],\n",
       " 'LR': [0.9615],\n",
       " 'NBC': [0.761],\n",
       " 'PAC': [0.9655],\n",
       " 'RFC': [0.9305],\n",
       " 'SVC': [0.968],\n",
       " 'Sample_Size': 10000}"
      ]
     },
     "execution_count": 33,
     "metadata": {},
     "output_type": "execute_result"
    }
   ],
   "source": [
    "scores"
   ]
  },
  {
   "cell_type": "markdown",
   "id": "2MiUDBkQ5JRz",
   "metadata": {
    "id": "2MiUDBkQ5JRz"
   },
   "source": [
    "Writing Scores to Files"
   ]
  },
  {
   "cell_type": "code",
   "execution_count": null,
   "id": "20uhBIk42ryj",
   "metadata": {
    "id": "20uhBIk42ryj"
   },
   "outputs": [],
   "source": [
    "from pathlib import Path\n",
    "\n",
    "path = Path('/content/drive/MyDrive/stats.csv')\n",
    "if not path.is_file():\n",
    "  # stat = pd.DataFrame(columns=['Sample_Size', 'LR', 'DTC', 'GBC', 'RFC'])\n",
    "  stat = pd.DataFrame(scores)\n",
    "else:\n",
    " b\n",
    "\n",
    "if sample_size not in stat.Sample_Size.unique():\n",
    "  stat = pd.concat([stat, pd.DataFrame(scores)])\n",
    "\n",
    "stat.sort_values(by='Sample_Size', inplace=True)\n",
    "\n",
    "stat.to_csv('/content/drive/MyDrive/stats.csv', mode='w', index=False)\n",
    "stat.to_csv('stats.csv', mode='w', index=False)"
   ]
  },
  {
   "cell_type": "code",
   "execution_count": 45,
   "id": "u3aWI1JlRlTH",
   "metadata": {
    "id": "u3aWI1JlRlTH"
   },
   "outputs": [],
   "source": [
    " stat = pd.read_csv('/content/drive/MyDrive/stats.csv')"
   ]
  },
  {
   "cell_type": "code",
   "execution_count": null,
   "id": "hizOs_qQ1Q1z",
   "metadata": {
    "id": "hizOs_qQ1Q1z"
   },
   "outputs": [],
   "source": [
    "fil.write(str(scores))\n",
    "fil.close()"
   ]
  },
  {
   "cell_type": "code",
   "execution_count": null,
   "id": "WoSI3x8DGz7w",
   "metadata": {
    "id": "WoSI3x8DGz7w"
   },
   "outputs": [],
   "source": [
    "# stat = stat[3:]"
   ]
  },
  {
   "cell_type": "code",
   "execution_count": 47,
   "id": "DN6A35RTG3LL",
   "metadata": {
    "id": "DN6A35RTG3LL"
   },
   "outputs": [],
   "source": [
    "stat.Sample_Size = stat.Sample_Size.astype(str)"
   ]
  },
  {
   "cell_type": "code",
   "execution_count": 48,
   "id": "FnG54FrhHyb6",
   "metadata": {
    "colab": {
     "base_uri": "https://localhost:8080/",
     "height": 551
    },
    "id": "FnG54FrhHyb6",
    "outputId": "e8b84e81-f8e8-4532-df32-35548f82ca41"
   },
   "outputs": [
    {
     "data": {
      "image/png": "[encoded data removed]",
      "text/plain": [
       "<Figure size 1152x648 with 1 Axes>"
      ]
     },
     "metadata": {
      "needs_background": "light"
     },
     "output_type": "display_data"
    }
   ],
   "source": [
    "figure(figsize=(16,9))\n",
    "plt.plot(stat.Sample_Size, stat.LR, label=\"Logistic Regression\")\n",
    "plt.plot(stat.Sample_Size, stat.DT, label=\"Decision Tree\")\n",
    "plt.plot(stat.Sample_Size, stat.GBC, label=\"Gradient Booster\")\n",
    "plt.plot(stat.Sample_Size, stat.RFC, label=\"Random Forest Classifier\")\n",
    "plt.plot(stat.Sample_Size, stat.PAC, label=\"Passive Aggressive Classifier\")\n",
    "plt.plot(stat.Sample_Size, stat.NBC, label=\"Naive Bayes Classifier\")\n",
    "plt.plot(stat.Sample_Size, stat.SVC, label=\"Support Vector Classifier\")\n",
    "plt.xlabel('Sample Size')\n",
    "plt.ylabel('Accuracy Score')\n",
    "plt.legend()\n",
    "\n",
    "plt.savefig('/content/drive/MyDrive/fake_news_img/graph_'+str(sample_size)+'.png', dpi=300)"
   ]
  },
  {
   "cell_type": "code",
   "execution_count": null,
   "id": "GNQFJEbK-rPb",
   "metadata": {
    "colab": {
     "base_uri": "https://localhost:8080/"
    },
    "id": "GNQFJEbK-rPb",
    "outputId": "8f6a4f37-0723-457e-a4d3-ba3be2b3c5b8"
   },
   "outputs": [
    {
     "data": {
      "text/plain": [
       "{'DT': [0.9445],\n",
       " 'GBC': [0.967],\n",
       " 'LR': [0.9615],\n",
       " 'NBC': [0.761],\n",
       " 'PAC': [0.9655],\n",
       " 'RFC': [0.9305],\n",
       " 'SVC': [0.968],\n",
       " 'Sample_Size': 10000}"
      ]
     },
     "execution_count": 39,
     "metadata": {},
     "output_type": "execute_result"
    }
   ],
   "source": [
    "scores"
   ]
  },
  {
   "cell_type": "code",
   "execution_count": null,
   "id": "WzPMQo55-s-1",
   "metadata": {
    "id": "WzPMQo55-s-1"
   },
   "outputs": [],
   "source": [
    "stat.drop(labels=[0,1,2,3], inplace=True)"
   ]
  },
  {
   "cell_type": "code",
   "execution_count": null,
   "id": "JYoiyau9CCSs",
   "metadata": {
    "colab": {
     "base_uri": "https://localhost:8080/",
     "height": 206
    },
    "id": "JYoiyau9CCSs",
    "outputId": "8784ad4b-1832-40ba-e4c4-7c2c7c8c9075"
   },
   "outputs": [
    {
     "data": {
      "text/html": [
       "\n",
       "  <div id=\"df-9cb45780-4358-455e-9713-8da0ca723045\">\n",
       "    <div class=\"colab-df-container\">\n",
       "      <div>\n",
       "<style scoped>\n",
       "    .dataframe tbody tr th:only-of-type {\n",
       "        vertical-align: middle;\n",
       "    }\n",
       "\n",
       "    .dataframe tbody tr th {\n",
       "        vertical-align: top;\n",
       "    }\n",
       "\n",
       "    .dataframe thead th {\n",
       "        text-align: right;\n",
       "    }\n",
       "</style>\n",
       "<table border=\"1\" class=\"dataframe\">\n",
       "  <thead>\n",
       "    <tr style=\"text-align: right;\">\n",
       "      <th></th>\n",
       "      <th>Sample_Size</th>\n",
       "      <th>LR</th>\n",
       "      <th>DT</th>\n",
       "      <th>GBC</th>\n",
       "      <th>RFC</th>\n",
       "      <th>PAC</th>\n",
       "      <th>NBC</th>\n",
       "      <th>SVC</th>\n",
       "    </tr>\n",
       "  </thead>\n",
       "  <tbody>\n",
       "    <tr>\n",
       "      <th>4</th>\n",
       "      <td>1001</td>\n",
       "      <td>0.885572</td>\n",
       "      <td>0.875622</td>\n",
       "      <td>0.940299</td>\n",
       "      <td>0.875622</td>\n",
       "      <td>0.900498</td>\n",
       "      <td>0.711443</td>\n",
       "      <td>0.890547</td>\n",
       "    </tr>\n",
       "    <tr>\n",
       "      <th>5</th>\n",
       "      <td>2000</td>\n",
       "      <td>0.922500</td>\n",
       "      <td>0.905000</td>\n",
       "      <td>0.945000</td>\n",
       "      <td>0.900000</td>\n",
       "      <td>0.962500</td>\n",
       "      <td>0.642500</td>\n",
       "      <td>0.950000</td>\n",
       "    </tr>\n",
       "    <tr>\n",
       "      <th>6</th>\n",
       "      <td>2001</td>\n",
       "      <td>0.927681</td>\n",
       "      <td>0.905237</td>\n",
       "      <td>0.947631</td>\n",
       "      <td>0.877805</td>\n",
       "      <td>0.947631</td>\n",
       "      <td>0.665835</td>\n",
       "      <td>0.950125</td>\n",
       "    </tr>\n",
       "    <tr>\n",
       "      <th>7</th>\n",
       "      <td>5000</td>\n",
       "      <td>0.911000</td>\n",
       "      <td>0.946000</td>\n",
       "      <td>0.954000</td>\n",
       "      <td>0.898000</td>\n",
       "      <td>0.956000</td>\n",
       "      <td>0.627000</td>\n",
       "      <td>0.935000</td>\n",
       "    </tr>\n",
       "    <tr>\n",
       "      <th>8</th>\n",
       "      <td>5001</td>\n",
       "      <td>0.941059</td>\n",
       "      <td>0.936064</td>\n",
       "      <td>0.965035</td>\n",
       "      <td>0.924076</td>\n",
       "      <td>0.953047</td>\n",
       "      <td>0.736264</td>\n",
       "      <td>0.949051</td>\n",
       "    </tr>\n",
       "  </tbody>\n",
       "</table>\n",
       "</div>\n",
       "      <button class=\"colab-df-convert\" onclick=\"convertToInteractive('df-9cb45780-4358-455e-9713-8da0ca723045')\"\n",
       "              title=\"Convert this dataframe to an interactive table.\"\n",
       "              style=\"display:none;\">\n",
       "        \n",
       "  <svg xmlns=\"http://www.w3.org/2000/svg\" height=\"24px\"viewBox=\"0 0 24 24\"\n",
       "       width=\"24px\">\n",
       "    <path d=\"M0 0h24v24H0V0z\" fill=\"none\"/>\n",
       "    <path d=\"M18.56 5.44l.94 2.06.94-2.06 2.06-.94-2.06-.94-.94-2.06-.94 2.06-2.06.94zm-11 1L8.5 8.5l.94-2.06 2.06-.94-2.06-.94L8.5 2.5l-.94 2.06-2.06.94zm10 10l.94 2.06.94-2.06 2.06-.94-2.06-.94-.94-2.06-.94 2.06-2.06.94z\"/><path d=\"M17.41 7.96l-1.37-1.37c-.4-.4-.92-.59-1.43-.59-.52 0-1.04.2-1.43.59L10.3 9.45l-7.72 7.72c-.78.78-.78 2.05 0 2.83L4 21.41c.39.39.9.59 1.41.59.51 0 1.02-.2 1.41-.59l7.78-7.78 2.81-2.81c.8-.78.8-2.07 0-2.86zM5.41 20L4 18.59l7.72-7.72 1.47 1.35L5.41 20z\"/>\n",
       "  </svg>\n",
       "      </button>\n",
       "      \n",
       "  <style>\n",
       "    .colab-df-container {\n",
       "      display:flex;\n",
       "      flex-wrap:wrap;\n",
       "      gap: 12px;\n",
       "    }\n",
       "\n",
       "    .colab-df-convert {\n",
       "      background-color: #E8F0FE;\n",
       "      border: none;\n",
       "      border-radius: 50%;\n",
       "      cursor: pointer;\n",
       "      display: none;\n",
       "      fill: #1967D2;\n",
       "      height: 32px;\n",
       "      padding: 0 0 0 0;\n",
       "      width: 32px;\n",
       "    }\n",
       "\n",
       "    .colab-df-convert:hover {\n",
       "      background-color: #E2EBFA;\n",
       "      box-shadow: 0px 1px 2px rgba(60, 64, 67, 0.3), 0px 1px 3px 1px rgba(60, 64, 67, 0.15);\n",
       "      fill: #174EA6;\n",
       "    }\n",
       "\n",
       "    [theme=dark] .colab-df-convert {\n",
       "      background-color: #3B4455;\n",
       "      fill: #D2E3FC;\n",
       "    }\n",
       "\n",
       "    [theme=dark] .colab-df-convert:hover {\n",
       "      background-color: #434B5C;\n",
       "      box-shadow: 0px 1px 3px 1px rgba(0, 0, 0, 0.15);\n",
       "      filter: drop-shadow(0px 1px 2px rgba(0, 0, 0, 0.3));\n",
       "      fill: #FFFFFF;\n",
       "    }\n",
       "  </style>\n",
       "\n",
       "      <script>\n",
       "        const buttonEl =\n",
       "          document.querySelector('#df-9cb45780-4358-455e-9713-8da0ca723045 button.colab-df-convert');\n",
       "        buttonEl.style.display =\n",
       "          google.colab.kernel.accessAllowed ? 'block' : 'none';\n",
       "\n",
       "        async function convertToInteractive(key) {\n",
       "          const element = document.querySelector('#df-9cb45780-4358-455e-9713-8da0ca723045');\n",
       "          const dataTable =\n",
       "            await google.colab.kernel.invokeFunction('convertToInteractive',\n",
       "                                                     [key], {});\n",
       "          if (!dataTable) return;\n",
       "\n",
       "          const docLinkHtml = 'Like what you see? Visit the ' +\n",
       "            '<a target=\"_blank\" href=https://colab.research.google.com/notebooks/data_table.ipynb>data table notebook</a>'\n",
       "            + ' to learn more about interactive tables.';\n",
       "          element.innerHTML = '';\n",
       "          dataTable['output_type'] = 'display_data';\n",
       "          await google.colab.output.renderOutput(dataTable, element);\n",
       "          const docLink = document.createElement('div');\n",
       "          docLink.innerHTML = docLinkHtml;\n",
       "          element.appendChild(docLink);\n",
       "        }\n",
       "      </script>\n",
       "    </div>\n",
       "  </div>\n",
       "  "
      ],
      "text/plain": [
       "  Sample_Size        LR        DT       GBC       RFC       PAC       NBC  \\\n",
       "4        1001  0.885572  0.875622  0.940299  0.875622  0.900498  0.711443   \n",
       "5        2000  0.922500  0.905000  0.945000  0.900000  0.962500  0.642500   \n",
       "6        2001  0.927681  0.905237  0.947631  0.877805  0.947631  0.665835   \n",
       "7        5000  0.911000  0.946000  0.954000  0.898000  0.956000  0.627000   \n",
       "8        5001  0.941059  0.936064  0.965035  0.924076  0.953047  0.736264   \n",
       "\n",
       "        SVC  \n",
       "4  0.890547  \n",
       "5  0.950000  \n",
       "6  0.950125  \n",
       "7  0.935000  \n",
       "8  0.949051  "
      ]
     },
     "execution_count": 41,
     "metadata": {},
     "output_type": "execute_result"
    }
   ],
   "source": [
    "stat"
   ]
  },
  {
   "cell_type": "code",
   "execution_count": null,
   "id": "y0uDOr8262kE",
   "metadata": {
    "colab": {
     "base_uri": "https://localhost:8080/"
    },
    "id": "y0uDOr8262kE",
    "outputId": "7c987f48-9f4c-4fd5-9607-c22bb07d66e0"
   },
   "outputs": [
    {
     "name": "stderr",
     "output_type": "stream",
     "text": [
      "/usr/local/lib/python3.7/dist-packages/ipykernel_launcher.py:5: SettingWithCopyWarning: \n",
      "A value is trying to be set on a copy of a slice from a DataFrame.\n",
      "Try using .loc[row_indexer,col_indexer] = value instead\n",
      "\n",
      "See the caveats in the documentation: https://pandas.pydata.org/pandas-docs/stable/user_guide/indexing.html#returning-a-view-versus-a-copy\n",
      "  \"\"\"\n"
     ]
    }
   ],
   "source": [
    "dp = stat.loc[stat.Sample_Size == str(sample_size)]\n",
    "dp\n",
    "\n",
    "for key in list(scores.keys()):\n",
    "  stat.loc[stat.Sample_Size == str(sample_size)][key] = scores[key]\n",
    "\n",
    "# list(scores.keys())"
   ]
  },
  {
   "cell_type": "code",
   "execution_count": null,
   "id": "HEZ3o-ti-Ckm",
   "metadata": {
    "id": "HEZ3o-ti-Ckm"
   },
   "outputs": [],
   "source": []
  }
 ],
 "metadata": {
  "colab": {
   "collapsed_sections": [],
   "name": "Fake News Detection Final.ipynb",
   "provenance": []
  },
  "kernelspec": {
   "display_name": "Python 3 (ipykernel)",
   "language": "python",
   "name": "python3"
  },
  "language_info": {
   "codemirror_mode": {
    "name": "ipython",
    "version": 3
   },
   "file_extension": ".py",
   "mimetype": "text/x-python",
   "name": "python",
   "nbconvert_exporter": "python",
   "pygments_lexer": "ipython3",
   "version": "3.10.1"
  }
 },
 "nbformat": 4,
 "nbformat_minor": 5
}
